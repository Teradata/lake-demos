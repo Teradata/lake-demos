{
 "cells": [
  {
   "cell_type": "markdown",
   "id": "polish-leisure",
   "metadata": {},
   "source": [
    "## Load Amazon Reviews Data ##"
   ]
  },
  {
   "cell_type": "code",
   "execution_count": null,
   "id": "cloudy-structure",
   "metadata": {
    "tags": []
   },
   "outputs": [],
   "source": [
    "import pandas as pd\n",
    "import numpy as np\n",
    "import json\n",
    "from teradataml import *\n",
    "\n",
    "from collections import OrderedDict\n",
    "from teradatasqlalchemy.types import *\n",
    "\n",
    "# load vars json\n",
    "with open('vars-vs_demo.json', 'r') as f:\n",
    "    session_vars = json.load(f)\n",
    "\n",
    "name = session_vars['hierarchy']['SYSDBA']['username']\n",
    "pwd = session_vars['hierarchy']['SYSDBA']['password']\n",
    "host = session_vars['environment']['host']\n",
    "\n",
    "eng = create_context(host = host, username = name, password = pwd)\n",
    "\n",
    "\n",
    "df = pd.read_csv('Data/amazon_reviews_25.csv')\n",
    "\n",
    "copy_to_sql(df, table_name = 'amazon_reviews_25', schema_name = 'demo', index = True, index_label = 'id', primary_index = 'id', if_exists = 'replace')\n",
    "\n",
    "remove_context()"
   ]
  },
  {
   "cell_type": "code",
   "execution_count": null,
   "id": "6799efea-2955-496a-9deb-d4d64ba068d5",
   "metadata": {},
   "outputs": [],
   "source": []
  },
  {
   "cell_type": "code",
   "execution_count": null,
   "id": "f0568fcf-5e1f-43ff-b991-016988003cb2",
   "metadata": {},
   "outputs": [],
   "source": []
  }
 ],
 "metadata": {
  "kernelspec": {
   "display_name": "Python 3 (ipykernel)",
   "language": "python",
   "name": "python3"
  },
  "language_info": {
   "codemirror_mode": {
    "name": "ipython",
    "version": 3
   },
   "file_extension": ".py",
   "mimetype": "text/x-python",
   "name": "python",
   "nbconvert_exporter": "python",
   "pygments_lexer": "ipython3",
   "version": "3.10.11"
  }
 },
 "nbformat": 4,
 "nbformat_minor": 5
}
