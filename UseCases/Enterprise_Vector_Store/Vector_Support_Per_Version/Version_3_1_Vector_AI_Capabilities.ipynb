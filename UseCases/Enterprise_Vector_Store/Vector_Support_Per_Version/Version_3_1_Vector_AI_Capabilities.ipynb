{
 "cells": [
  {
   "cell_type": "markdown",
   "id": "ff8b5c16-e8dd-4530-b4c5-0c8210640620",
   "metadata": {},
   "source": [
    "<header>\n",
    "   <p  style='font-size:36px;font-family:Arial; color:#F0F0F0; background-color: #00233c; padding-left: 20pt; padding-top: 20pt;padding-bottom: 10pt; padding-right: 20pt;'>\n",
    "       Vector analytics and AI functionality per database version - Vantage 3.1\n",
    "  <br>\n",
    "       <img id=\"teradata-logo\" src=\"https://storage.googleapis.com/clearscape_analytics_demo_data/DEMO_Logo/teradata.svg\" alt=\"Teradata\" style=\"width: 125px; height: auto; margin-top: 20pt;\">\n",
    "    </p>\n",
    "</header>\n",
    "\n",
    "<hr>\n",
    "\n",
    "<p style = 'font-size:28px;font-family:Arial;color:#00233C'><b>Overview</b></p>\n",
    "\n",
    "<p style = 'font-size:16px;font-family:Arial;color:#00233C'>Teradata Vantage provides a suite in-database analytic capabilities for Vector embedding and analytics with support across multiple database versions.  This notebook series reviews these capablities per database version, including:</p>\n",
    "\n",
    "<p style = 'font-size:18px;font-family:Arial;color:#00233C'><b>Database Version 17.20+ and VantageCloud Enterprise 3.0</b>\n",
    "<ul style = 'font-size:16px;font-family:Arial;color:#00233C'>\n",
    "    <li><b>Bring-Your-Own-Model (BYOM)</b> capabilities allow users to generate vector embeddings using open-source models serialized as ONNX format</li>\n",
    "    <li><b>Vector data</b> stored as FLOAT columns in normal database tables</li>\n",
    "    <li><b>Similarity analysis</b> using native ClearScape Analytics functions - <b>Vector Distance</b> and <b>KMeans</b></li>\n",
    "    </ul>\n",
    "    \n",
    "<p style = 'font-size:18px;font-family:Arial;color:#00233C'><b>VantageCloud Enterprise 3.1+</b>\n",
    "<ul style = 'font-size:16px;font-family:Arial;color:#00233C'>\n",
    "    <li><b>AI Analytic Functions</b> that leverage <b>Cloud-based LLMs</b> for text analytics, including Vector Embedding functions and RAG</li>\n",
    "    <li><b>VECTOR Datatype</b> Varbyte-based array of vector data stored as single column</li>\n",
    "    <li><b>Normalization</b> of vector data for efficient similarity analysis</li>\n",
    "    <li><b>Similarity analysis</b> using VECTOR DATATYPE and additional functions</li>\n",
    "    </ul>\n",
    "    \n",
    "<p style = 'font-size:18px;font-family:Arial;color:#00233C'><b>VantageCloud Lake</b>\n",
    "<ul style = 'font-size:16px;font-family:Arial;color:#00233C'>\n",
    "    <li><b>In-platform GPUs</b> leveraging Analytic Compute Clusters for high-scale vector embedding and other Large Language Model tasks</li>\n",
    "    <li><b>Enterprise Vector Store APIs</b> for creating and managing vector data using Python and/or REST</li>\n",
    "    <li><b>Similarity Search and RAG APIs</b> using Python</li>\n",
    "    <li><b>Vector Store UI</b> for managing vector data</li>\n",
    "    </ul>\n",
    "\n",
    "<p style = 'font-size:28px;font-family:Arial;color:#00233C'><b>Demonstration Data</b></p>\n",
    "<p style = 'font-size:16px;font-family:Arial;color:#00233C'>All of these demonstrations are based off of a small sample data set of Amazon book reviews.</p>\n",
    "\n",
    "<hr>\n",
    "<p style = 'font-size:18px;font-family:Arial;color:#00233C'><b>Python Package Prerequsites</b></p>\n",
    "<p style = 'font-size:16px;font-family:Arial;color:#00233C'>This only needs to be run once for the user environment - restart the kernel after installing the proper packages.</p>"
   ]
  },
  {
   "cell_type": "code",
   "execution_count": null,
   "id": "307e33bf-d7d5-4e67-9adf-04f144b23160",
   "metadata": {},
   "outputs": [],
   "source": [
    "%pip install -r requirements.txt"
   ]
  },
  {
   "cell_type": "markdown",
   "id": "f6db37c8-96e0-494f-b333-49a0f5f47cd9",
   "metadata": {},
   "source": [
    "<hr>\n",
    "\n",
    "<p style = 'font-size:18px;font-family:Arial;color:#00233C'><b>Python Package Imports</b></p>\n",
    "\n",
    "<p style = 'font-size:16px;font-family:Arial;color:#00233C'>Standard practice to import required packages and libraries; execute this cell to import packages for Teradata automation as well as machine learning, analytics, utility, and data management packages.</p> "
   ]
  },
  {
   "cell_type": "code",
   "execution_count": null,
   "id": "c6423cf9-8911-4c57-bf81-d0fa68b02823",
   "metadata": {
    "tags": []
   },
   "outputs": [],
   "source": [
    "from dotenv import load_dotenv\n",
    "from teradataml import *\n",
    "from teradatagenai import TextAnalyticsAI, TeradataAI, load_data\n",
    "\n",
    "import getpass, os\n",
    "from huggingface_hub import hf_hub_download\n",
    "\n",
    "from IPython.display import clear_output , display as ipydisplay, Markdown\n",
    "import matplotlib.pyplot as plt\n",
    "import pandas as pd\n",
    "\n",
    "# Set display options for dataframes, plots, and warnings\n",
    "%matplotlib inline\n",
    "warnings.filterwarnings('ignore')\n",
    "display.suppress_vantage_runtime_warnings = True\n",
    "\n",
    "# load vars json\n",
    "with open('vars.json', 'r') as f:\n",
    "    session_vars = json.load(f)\n",
    "\n",
    "# Database login information\n",
    "host = session_vars['environment']['host']\n",
    "username = session_vars['hierarchy']['users']['business_users'][1]['username']\n",
    "password = session_vars['hierarchy']['users']['business_users'][1]['password']"
   ]
  },
  {
   "cell_type": "markdown",
   "id": "7a24e41e-2267-4cdb-abc1-64b1d1c05fce",
   "metadata": {},
   "source": [
    "<hr>\n",
    "<p  style='font-size:36px;font-family:Arial; color:#F0F0F0; background-color: #00233c; padding-left: 20pt; padding-top: 20pt;padding-bottom: 10pt; padding-right: 20pt;'>\n",
    "       Features supported in Vantage version 3.1\n",
    "  <br>\n",
    "       <img id=\"teradata-logo\" src=\"https://storage.googleapis.com/clearscape_analytics_demo_data/DEMO_Logo/teradata.svg\" alt=\"Teradata\" style=\"width: 125px; height: auto; margin-top: 20pt;\">\n",
    "    </p>\n",
    "    \n",
    "\n",
    "<p style = 'font-size:16px;font-family:Arial;color:#00233C'>Teradata Vantage version 3.1 introduces new capabilities for managing vector embeddings, similarity search, and tight integration with cloud-based Large Language Models.</p>\n",
    "\n",
    "<table style = 'width:100%;table-layout:fixed;font-family:Arial;color:#00233C'>\n",
    "    <tr><td style = 'vertical-align:top' width = '40%'>    \n",
    "<ol style = 'font-size:16px;font-family:Arial;color:#00233C'>\n",
    "    <li><b>AI Analytic Functions</b> that leverage <b>Cloud-based LLMs</b> for text analytics, including Vector Embedding functions and RAG</li>\n",
    "    <br>\n",
    "    <li><b>VECTOR Datatype</b> Varbyte-based array of vector data stored as single column</li>\n",
    "    <br>\n",
    "    <li><b>Normalization</b> of vector data for efficient similarity analysis</li>\n",
    "    <br>\n",
    "    <li><b>Similarity analysis</b> using VECTOR DATATYPE and additional functions</li>\n",
    "    <br>\n",
    "    <li><b>RAG</b> using the similarity results as secure input to the LLM</li>\n",
    "    </ol>\n",
    "        </td><td style = 'text-align:center'><img src = 'images/Pattern_3.png' width = '300'></td></tr>\n",
    "</table>\n",
    "<hr>\n",
    "<p style = 'font-size:18px;font-family:Arial;color:#00233C'><b>Required - Connect to the database</b></p>\n",
    "\n",
    "<p style = 'font-size:16px;font-family:Arial;color:#00233C'>Initiate the connection to the target system.</p>"
   ]
  },
  {
   "cell_type": "code",
   "execution_count": null,
   "id": "bb7f86cb-1d36-48a4-ba4d-89910dfc10fd",
   "metadata": {
    "tags": []
   },
   "outputs": [],
   "source": [
    "# connect to database\n",
    "eng = create_context(host = host, username = username, password = password)"
   ]
  },
  {
   "cell_type": "markdown",
   "id": "9193fce6-1a1a-4ef7-9fb7-02dbc6ed44d5",
   "metadata": {},
   "source": [
    "<hr>\n",
    "<p style = 'font-size:18px;font-family:Arial;color:#00233C'><b>Inspect source data</b></p>\n",
    "\n",
    "<p style = 'font-size:16px;font-family:Arial;color:#00233C'>Use simple python methods to inspect the Amazon Reviews data. This code creates a teradataml DataFrame, which represents the data in the database which could extend to millions or billions of rows. Data is not moved, and users can perform common data management and analytics functions that will run at scale on the target system.</p>"
   ]
  },
  {
   "cell_type": "code",
   "execution_count": null,
   "id": "7d6c418e-fb7b-455e-8af1-a86d8d42b364",
   "metadata": {
    "tags": []
   },
   "outputs": [],
   "source": [
    "tdf_reviews = DataFrame('\"demo\".\"amazon_reviews_25\"')\n",
    "tdf_reviews.sample(2)"
   ]
  },
  {
   "cell_type": "markdown",
   "id": "91a61348-5599-44cf-8d60-3c47b81a1363",
   "metadata": {},
   "source": [
    "<hr>\n",
    "<p style = 'font-size:20px;font-family:Arial;color:#00233C'><b>Demo 1 - AI Analytic functions</b></p>\n",
    "\n",
    "<p style = 'font-size:16px;font-family:Arial;color:#00233C'>Teradata supports a range of <a href = 'https://docs.teradata.com/r/Lake-Analyze-Your-Data-with-ClearScape-AnalyticsTM/Text-Analytics-AI-Functions'>text analytics functions</a> using large language models available on various cloud platforms, utilizing data stored in-database, or accessible via object storage or Open Table Formats. This expansion enables functions that utilize the <b>massively-parallel processing</b> capabilities of Vantage.</p>\n",
    "\n",
    "<p style = 'font-size:16px;font-family:Arial;color:#00233C'>These functions are integrated into the database and callable using SQL or Python, and include the following capabilities:</p>\n",
    "\n",
    "<ul style = 'font-size:16px;font-family:Arial;color:#00233C'>\n",
    "    <li>Sentiment Extraction</li>\n",
    "    <li>Language Detection</li>\n",
    "    <li>Key Phrase Extraction</li>\n",
    "    <li>PII Masking</li>\n",
    "    <li>Entity Recognition</li>\n",
    "    <li>PII Identification</li>\n",
    "    <li>Text Classification</li>\n",
    "    <li>Text Summarization</li>\n",
    "    <li>Text Translation</li>\n",
    "    <li><b>Text Embeddings</b></li>\n",
    "    <li><b>Content Generation</b></li>\n",
    "    </ul>\n",
    "<p style = 'font-size:16px;font-family:Arial;color:#00233C'>The following demonstration will introduce <b>Text Embedding</b>, and later will introduce <b>Content Generation</b> for secure Retrieval Augmented Generation (RAG) use cases.</p>\n",
    "\n",
    "<hr>\n",
    "<p style = 'font-size:18px;font-family:Arial;color:#00233C'><b>Vector Embedding</b></p>\n",
    "<p style = 'font-size:16px;font-family:Arial;color:#00233C'>The <a href = 'https://docs.teradata.com/r/Lake-Analyze-Your-Data-with-ClearScape-AnalyticsTM/Text-Analytics-AI-Functions/AI_TextEmbeddings/AI_TextEmbeddings-Syntax'>AI_TextEmbeddings</a> function can be accessed via SQL or python.  Some key arguments include:</p>\n",
    "\n",
    "<ul style = 'font-size:16px;font-family:Arial;color:#00233C'>\n",
    "    <li>Input Table (view or query) containing the text data</li>\n",
    "    <li>CSP-specific arguments to authenticate to the LLM service, select the proper model, etc.</li>\n",
    "    <li>Output format including the new <b>VECTOR</b> datatype</li>\n",
    "</ul>\n",
    "\n",
    "<p style = 'font-size:16px;font-family:Arial;color:#00233C'><b>CSP Authorization</b>\n",
    "<p style = 'font-size:16px;font-family:Arial;color:#00233C'>Each CSP requires different style of authentication to access the LLM services.  The <a href = 'https://docs.teradata.com/r/Lake-Analyze-Your-Data-with-ClearScape-AnalyticsTM/Text-Analytics-AI-Functions/Common-Functionality-or-Rules'>documentation</a> provides a comprehensive overview.  For this demo, an \"Authorization Object\" has been pre created with access to AWS Bedrock models.</p>"
   ]
  },
  {
   "cell_type": "code",
   "execution_count": null,
   "id": "710b8673-02af-4e46-8eba-a38f3a350fa1",
   "metadata": {
    "tags": []
   },
   "outputs": [],
   "source": [
    "qry = '''\n",
    "SELECT rev_id, rev_text, Embedding FROM AI_TextEmbeddings(   \n",
    "    ON (SELECT TOP 2 rev_text, rev_id, TD_BYONE() p FROM demo.amazon_reviews_25) AS InputTable\n",
    "    PARTITION BY p\n",
    "USING   \n",
    "    REGION('us-west-2')\n",
    "    Authorization(Repositories.BedrockAuth)\n",
    "    ApiType('aws')\n",
    "    ModelName('amazon.titan-embed-text-v2:0')\n",
    "    TextColumn('rev_text')\n",
    "    outputformat('vector')\n",
    "    ) as dt;\n",
    "'''\n",
    "pd.read_sql(qry, eng)"
   ]
  },
  {
   "cell_type": "markdown",
   "id": "c7731f9f-ad39-4c5b-bf82-04d1cad2c61b",
   "metadata": {},
   "source": [
    "<hr>\n",
    "<p style = 'font-size:18px;font-family:Arial;color:#00233C'><b>Python version</b></p>\n",
    "\n",
    "\n",
    "<p style = 'font-size:16px;font-family:Arial;color:#00233C'>For python developers, the <a href = 'https://docs.teradata.com/r/Lake-Analyze-Your-Data-with-ClearScape-AnalyticsTM/Teradata-Package-for-Generative-AI'>teradatagenai</a> python library can both connect to cloud-based LLM services as well as instantiate private models running <b>at scale</b> on local CPU or GPU compute.  This demonstration illustrates how to use AWS Bedrock to generate embeddings.</p>\n",
    "\n",
    "<p style = 'font-size:16px;font-family:Arial;color:#00233C'><b>CSP Authorization</b>\n",
    "<p style = 'font-size:16px;font-family:Arial;color:#00233C'>For this example, access keys and secrets are passed instead of using an authorization object. Copy the \"env\" file to \".env\" to load as environment variables.</p>"
   ]
  },
  {
   "cell_type": "code",
   "execution_count": null,
   "id": "90f219c6-9f3d-4c6c-986f-fb1e2324f772",
   "metadata": {
    "tags": []
   },
   "outputs": [],
   "source": [
    "!cp env .env"
   ]
  },
  {
   "cell_type": "code",
   "execution_count": null,
   "id": "88c1586b-052b-4dce-a5f7-2ab7f3438e2a",
   "metadata": {
    "tags": []
   },
   "outputs": [],
   "source": [
    "# key and secret in .env file\n",
    "load_dotenv()\n",
    "\n",
    "llm_aws = TeradataAI(\n",
    "    api_type = 'aws',\n",
    "    access_key = os.getenv('AWS_ACCESS_KEY_ID'),\n",
    "    secret_key = os.getenv('AWS_SECRET_ACCESS_KEY'),\n",
    "    region = os.getenv('AWS_DEFAULT_REGION'),\n",
    "    model_name = 'amazon.titan-embed-text-v2:0')\n",
    "\n",
    "# Instantiate the TextAnalyticsAI class with the ONNX model.\n",
    "obj = TextAnalyticsAI(llm = llm_aws)\n",
    "\n",
    "tdf_embeddings = obj.embeddings(data = tdf_reviews,\n",
    "                                column = 'rev_text', \n",
    "                                accumulate = 'rev_id',\n",
    "                                output_format = 'vector')\n",
    "\n",
    "tdf_embeddings.sample(2)"
   ]
  },
  {
   "cell_type": "markdown",
   "id": "c39c3ed5-8609-465f-a965-43b1aa36d193",
   "metadata": {},
   "source": [
    "<hr>\n",
    "<p style = 'font-size:20px;font-family:Arial;color:#00233C'><b>Demo 2 - VECTOR datatype</b></p>\n",
    "\n",
    "<p style = 'font-size:16px;font-family:Arial;color:#00233C'>The <a href = 'https://docs.teradata.com/r/Enterprise_IntelliFlex_VMware/Teradata-Vector-Store-User-Guide/Understanding-the-Vector-Store-Features/VECTOR-Data-Type'>VECTOR datatype</a> is based on varbyte arrays that represent a packed version of the vector values.  Vector data can be constructed from VARCHAR (or FLOAT columns packed into a varchar) or VARBYTE arrays.  This demonstration illustrates the following steps to construct a vector from other sources including ONNXEmbeddings.</p>\n",
    "\n",
    "<ol style = 'font-size:16px;font-family:Arial;color:#00233C'>\n",
    "    <li>Construct a VARCHAR using the PACK function</li>\n",
    "    <li>CAST the VECTOR datatype from the result of the PACK operation</li>\n",
    "    </ol>\n",
    "    \n",
    "<hr>\n",
    "<p style = 'font-size:18px;font-family:Arial;color:#00233C'><b>Create a small table of float values</b></p>\n",
    "\n",
    "\n",
    "<p style = 'font-size:16px;font-family:Arial;color:#00233C'>Create a volatile/temporary table using python methods.</p>"
   ]
  },
  {
   "cell_type": "code",
   "execution_count": null,
   "id": "904887a3-aedc-40b1-a0bf-aa2fcae8cf49",
   "metadata": {
    "tags": []
   },
   "outputs": [],
   "source": [
    "df = pd.DataFrame(data = {'id':[0,1],\n",
    "                          'emb_1':[0.123632,0.223632], \n",
    "                          'emb_2':[-1.786543,-1.986543], \n",
    "                          'emb_3':[0.001239,0.011239]})\n",
    "\n",
    "copy_to_sql(df, table_name = 'vector_floats', temporary = True, if_exists = 'replace') "
   ]
  },
  {
   "cell_type": "markdown",
   "id": "abab7b7c-2ccd-4314-abc3-6fb965f59fdf",
   "metadata": {},
   "source": [
    "<hr>\n",
    "<p style = 'font-size:18px;font-family:Arial;color:#00233C'><b>Use the PACK function</b></p>\n",
    "\n",
    "\n",
    "<p style = 'font-size:16px;font-family:Arial;color:#00233C'>Can use SQL or Python</p>"
   ]
  },
  {
   "cell_type": "code",
   "execution_count": null,
   "id": "1fdb441b-fc5b-4baa-93f0-5b48740d04e5",
   "metadata": {
    "tags": []
   },
   "outputs": [],
   "source": [
    "qry = '''\n",
    "SELECT * FROM PACK (\n",
    "    ON vector_floats\n",
    "    USING\n",
    "        OutputColumn('packed_data')\n",
    "        TargetColumns('[1:3]')\n",
    "        IncludeColumnName('False')\n",
    "        Accumulate('id')\n",
    ") AS dt;\n",
    "'''\n",
    "pd.read_sql(qry, eng)"
   ]
  },
  {
   "cell_type": "markdown",
   "id": "3cfc174d-fbd1-4c25-9d26-81ee4a397b28",
   "metadata": {},
   "source": [
    "<hr>\n",
    "<p style = 'font-size:18px;font-family:Arial;color:#00233C'><b>CAST to VECTOR</b></p>\n",
    "\n",
    "\n",
    "<p style = 'font-size:16px;font-family:Arial;color:#00233C'>Users can call NEW or CAST function</p>"
   ]
  },
  {
   "cell_type": "code",
   "execution_count": null,
   "id": "63ba6cf1-e669-4504-bd8a-3248f5de4e98",
   "metadata": {
    "tags": []
   },
   "outputs": [],
   "source": [
    "qry = '''\n",
    "SELECT CAST(packed_data AS VECTOR) Vector_Data, id\n",
    "\n",
    "FROM (\n",
    "    SELECT * FROM PACK (\n",
    "    ON vector_floats\n",
    "    USING\n",
    "        OutputColumn('packed_data')\n",
    "        TargetColumns('[1:3]')\n",
    "        IncludeColumnName('False')\n",
    "        Accumulate('id')\n",
    ") AS dt) d;\n",
    "'''\n",
    "pd.read_sql(qry, eng)"
   ]
  },
  {
   "cell_type": "markdown",
   "id": "9605c704-72c8-4377-a530-8f444141d9fc",
   "metadata": {},
   "source": [
    "<hr>\n",
    "<p style = 'font-size:18px;font-family:Arial;color:#00233C'><b>Python version</b></p>\n",
    "\n",
    "\n",
    "<p style = 'font-size:16px;font-family:Arial;color:#00233C'>Teradataml methods can also be used:</p>"
   ]
  },
  {
   "cell_type": "code",
   "execution_count": null,
   "id": "8a20d13f-c584-4826-bbec-6f49efd501f5",
   "metadata": {
    "tags": []
   },
   "outputs": [],
   "source": [
    "# get a refrence to the float data:\n",
    "\n",
    "tdf_floats = DataFrame('vector_floats')\n",
    "ipydisplay(Markdown('Float Data:'))\n",
    "ipydisplay(tdf_floats)\n",
    "\n",
    "# pass it to the Pack function\n",
    "tdf_packed = Pack(data = tdf_floats, \n",
    "                  input_columns = ['emb_1','emb_2','emb_3'], \n",
    "                  output_column = 'packed_data', \n",
    "                  include_column_name = False,\n",
    "                  accumulate = 'id').result\n",
    "\n",
    "ipydisplay(Markdown('Packed Data:'))\n",
    "ipydisplay(tdf_packed)\n",
    "\n",
    "# cast the varchar column to VECTOR\n",
    "from teradatasqlalchemy import VECTOR\n",
    "tdf_vector = tdf_packed.assign(packed_data = tdf_packed['packed_data'].cast(type_= VECTOR))\n",
    "\n",
    "ipydisplay(Markdown('Vector Data:'))\n",
    "ipydisplay(tdf_vector)\n",
    "ipydisplay(tdf_vector.tdtypes)"
   ]
  },
  {
   "cell_type": "markdown",
   "id": "65462c87-b039-4ed9-9d84-a4369882e748",
   "metadata": {},
   "source": [
    "<hr>\n",
    "<p style = 'font-size:20px;font-family:Arial;color:#00233C'><b>Demo 3 - Normalize vector values</b></p>\n",
    "\n",
    "<p style = 'font-size:16px;font-family:Arial;color:#00233C'>Vector normalization is the process of scaling a vector to have a magnitude (length) of 1, while preserving its direction. This resulting vector is called a unit vector. It's essentially dividing each component of the vector by its length.  This makes some calculations much more efficient, including some of the search and indexing operations.  The ClearScape Analytics function <b>TD_VectorNormalize</b> will perform this operation at scale on our VECTOR datatype.</p>\n",
    "\n",
    "<p style = 'font-size:16px;font-family:Arial;color:#00233C'><b>Note</b></p> \n",
    "<p style = 'font-size:16px;font-family:Arial;color:#00233C'>The TD_VECTORNORMALIZE function requires an \"EmbeddingSize\" parameter.  The LENGTH() function can return this if it isn't already known.</p>"
   ]
  },
  {
   "cell_type": "code",
   "execution_count": null,
   "id": "f1a4d18f-ffa5-47fe-a522-70857800072a",
   "metadata": {
    "tags": []
   },
   "outputs": [],
   "source": [
    "qry = '''\n",
    "SELECT rev_id, rev_text, Embedding, Embedding.LENGTH() emb_dims\n",
    "       FROM AI_TextEmbeddings(   \n",
    "    ON (SELECT TOP 2 rev_text, rev_id, TD_BYONE() p FROM demo.amazon_reviews_25) AS InputTable\n",
    "    PARTITION BY p\n",
    "USING   \n",
    "    REGION('us-west-2')\n",
    "    Authorization(Repositories.BedrockAuth)\n",
    "    ApiType('aws')\n",
    "    ModelName('amazon.titan-embed-text-v2:0')\n",
    "    TextColumn('rev_text')\n",
    "    outputformat('vector')\n",
    ") as dt;\n",
    "'''\n",
    "pd.read_sql(qry, eng)"
   ]
  },
  {
   "cell_type": "markdown",
   "id": "28c9425e-38c3-4e40-8633-89c083184723",
   "metadata": {},
   "source": [
    "<hr>\n",
    "<p style = 'font-size:16px;font-family:Arial;color:#00233C'><b>Pass the embeddings function to TD_VECTORNORMALIZE</b></p>\n",
    "\n",
    "<p style = 'font-size:16px;font-family:Arial;color:#00233C'>Return both the original embedding and the normalized value</p>\n",
    "\n",
    "<p style = 'font-size:16px;font-family:Arial;color:#00233C'><b>Note</b> </p>\n",
    "<p style = 'font-size:16px;font-family:Arial;color:#00233C'>A human-readable representation of the vector can be seen by casting to VARCHAR.</p>"
   ]
  },
  {
   "cell_type": "code",
   "execution_count": null,
   "id": "c4c4676e-7371-4148-8e4b-9e9b99a128f6",
   "metadata": {
    "tags": []
   },
   "outputs": [],
   "source": [
    "qry = '''\n",
    "SELECT * FROM TD_Vectornormalize(\n",
    "       ON (SELECT id, rev_text, Embedding, CAST(Embedding AS VARCHAR(34000)) Emb_VARCHAR, Embedding Embedding_Normalized\n",
    "       FROM AI_TextEmbeddings(   \n",
    "    ON (SELECT TOP 2 rev_text, id, TD_BYONE() p FROM demo.amazon_reviews_25) AS InputTable\n",
    "    PARTITION BY p\n",
    "USING   \n",
    "    REGION('us-west-2')\n",
    "    Authorization(Repositories.BedrockAuth)\n",
    "    ApiType('aws')\n",
    "    ModelName('amazon.titan-embed-text-v2:0')\n",
    "    TextColumn('rev_text')\n",
    "    outputformat('vector')\n",
    "    ) as ve) AS InputTable\n",
    "USING\n",
    "    IDColumns('id')\n",
    "    TargetColumns('Embedding_Normalized')\n",
    "    Approach('UNITVECTOR')\n",
    "    Accumulate('rev_text','Embedding', 'Emb_VARCHAR')\n",
    "    EmbeddingSize(1024)\n",
    ") AS dt;\n",
    "'''\n",
    "\n",
    "pd.read_sql(qry, eng)"
   ]
  },
  {
   "cell_type": "markdown",
   "id": "10d3b3a3-c6c1-48c9-9a3a-b77f8e336d2f",
   "metadata": {},
   "source": [
    "<hr>\n",
    "<p style = 'font-size:20px;font-family:Arial;color:#00233C'><b>Demo 4 - Similarity analysis using HNSW</b></p>\n",
    "\n",
    "<p style = 'font-size:16px;font-family:Arial;color:#00233C'>The prior demonstration notebook reviewed how to use TD_VECTORDISTANCE and KMeans for rapid similarity analysis.  With Vantage 3.1, these functions accept the VECTOR datatype.  Additionally, a new highly-scalable analytic function has been introduced.  </p>\n",
    "\n",
    "<p style = 'font-size:16px;font-family:Arial;color:#00233C'>The  <a href = 'https://docs.teradata.com/r/Enterprise_IntelliFlex_VMware/Database-Engine-20-In-Database-Analytic-Functions/Model-Training-Functions/TD_HNSW-Function'>Hierarchical Navigable Small World (HNSW)</a> is a graph-based algorithm that performs approximate nearest neighbor searches in vector databases.</p>\n",
    "\n",
    "<p style = 'font-size:16px;font-family:Arial;color:#00233C'>It uses a multi-layered graph structure to efficiently search high-dimensional spaces. The top layer has a sparse graph with long-range connections, and the lower layers become denser. The search starts at the top layer, then moves down through the layers to find the nearest neighbors.</p>\n",
    "\n",
    "<table style = 'width:100%;table-layout:fixed;font-family:Arial;color:#00233C'>\n",
    "    <tr><td style = 'vertical-align:top' width = '40%'>\n",
    "<ol style = 'font-size:16px;font-family:Arial;color:#00233C'>\n",
    "    <li>Train the model using the Vector Datatype as input</li>\n",
    "    <br>\n",
    "    <li>Predict nearest matches using the embedded search term</li>\n",
    "    <br>\n",
    "    <li>Join the original data for human-readable results</li>\n",
    "    </ol>\n",
    "</td><td style = 'text-align:center'><img src = 'images/HNSW.png' width = '300'></td></tr>\n",
    "</table>\n",
    "    \n",
    "<hr>\n",
    "<p style = 'font-size:16px;font-family:Arial;color:#00233C'><b>Train the model</b></p>\n",
    "\n",
    "<p style = 'font-size:16px;font-family:Arial;color:#00233C'>First, create a table using our embeddings function.  Then, train the HNSW model</p>"
   ]
  },
  {
   "cell_type": "code",
   "execution_count": null,
   "id": "767ec01b-3b38-494a-84b9-7578d8ea001c",
   "metadata": {
    "tags": []
   },
   "outputs": [],
   "source": [
    "\n",
    "qry = '''\n",
    "CREATE TABLE rev_embeddings AS (\n",
    "SELECT * FROM TD_Vectornormalize(\n",
    "       ON (SELECT id, rev_text, Embedding, Embedding Embedding_Normalized\n",
    "       FROM AI_TextEmbeddings(   \n",
    "    ON (SELECT rev_text, id, TD_BYONE() p FROM demo.amazon_reviews_25) AS InputTable\n",
    "    PARTITION BY p\n",
    "USING   \n",
    "    REGION('us-west-2')\n",
    "    Authorization(Repositories.BedrockAuth)\n",
    "    ApiType('aws')\n",
    "    ModelName('amazon.titan-embed-text-v2:0')\n",
    "    TextColumn('rev_text')\n",
    "    outputformat('vector')\n",
    "    ) as ve) AS InputTable\n",
    "USING\n",
    "    IDColumns('id')\n",
    "    TargetColumns('Embedding_Normalized')\n",
    "    Approach('UNITVECTOR')\n",
    "    Accumulate('rev_text','Embedding')\n",
    "    EmbeddingSize(1024)\n",
    ") AS dt) WITH DATA;\n",
    "'''\n",
    "try:\n",
    "    execute_sql('DROP TABLE rev_embeddings;')\n",
    "except Exception as e:\n",
    "    if 'does not exist' in str(e):\n",
    "        pass\n",
    "\n",
    "execute_sql(qry)"
   ]
  },
  {
   "cell_type": "code",
   "execution_count": null,
   "id": "9876cc30-9e8a-4d51-9402-8d92468ac713",
   "metadata": {
    "tags": []
   },
   "outputs": [],
   "source": [
    "qry = '''\n",
    "SELECT * FROM TD_HNSW (\n",
    "    ON rev_embeddings AS InputTable\n",
    "    OUT VOLATILE TABLE OutputTable(hnsw_model)\n",
    "USING\n",
    "    IdColumn('id')\n",
    "    VectorColumn('Embedding')\n",
    "    EfConstruction(16)\n",
    "    NumConnPerNode(16)\n",
    "    MaxNumConnPerNode(20)\n",
    "    DistanceMeasure('euclidean')\n",
    "    EmbeddingSize(1024)\n",
    "    ApplyHeuristics('true')\n",
    ") as dt;\n",
    "'''\n",
    "\n",
    "try:\n",
    "    execute_sql('DROP TABLE hnsw_model;')\n",
    "except Exception as e:\n",
    "    if 'does not exist' in str(e):\n",
    "        pass\n",
    "execute_sql(qry)"
   ]
  },
  {
   "cell_type": "markdown",
   "id": "326faa42-e032-4491-a9ac-dd8fcf6c5e86",
   "metadata": {},
   "source": [
    "<hr>\n",
    "<p style = 'font-size:16px;font-family:Arial;color:#00233C'><b>Return similar results using an embedded search term as input</b></p>\n",
    "\n",
    "<p style = 'font-size:16px;font-family:Arial;color:#00233C'>The <a href = 'https://docs.teradata.com/r/Enterprise_IntelliFlex_VMware/Database-Engine-20-In-Database-Analytic-Functions/Model-Scoring-Functions/TD_HNSWPredict'>TD_HNSWPredict</a> function will return the topk closest matches.</p>"
   ]
  },
  {
   "cell_type": "code",
   "execution_count": null,
   "id": "326f2b9d-9224-4266-afc3-2285cdaa574a",
   "metadata": {
    "tags": []
   },
   "outputs": [],
   "source": [
    "# search_term = input('Please enter a search term: ')\n",
    "search_term = 'Which book are all the reviews talking about?'\n",
    "\n",
    "qry = f'''\n",
    "CREATE TABLE term_embedded AS (\n",
    "SELECT * FROM AI_TextEmbeddings(   \n",
    "            ON (SELECT '{search_term}' txt, 1 id) AS InputTable\n",
    "        USING   \n",
    "            REGION('us-west-2')\n",
    "            Authorization(Repositories.BedrockAuth)\n",
    "            ApiType('aws')\n",
    "            ModelName('amazon.titan-embed-text-v2:0')\n",
    "        TextColumn('txt')\n",
    "        outputformat('vector')\n",
    "        ) as ve) WITH DATA;\n",
    "'''\n",
    "try:\n",
    "    execute_sql('DROP TABLE term_embedded;')\n",
    "except Exception as e:\n",
    "    if 'does not exist' in str(e):\n",
    "        pass\n",
    "execute_sql(qry)"
   ]
  },
  {
   "cell_type": "code",
   "execution_count": null,
   "id": "9c609f11-01fc-4e75-9c6e-93406d742cf7",
   "metadata": {
    "tags": []
   },
   "outputs": [],
   "source": [
    "qry = f'''\n",
    "\n",
    "SELECT r.id review_id, r.rev_text, d.distance, CAST(d.nearest_neighbor_vector AS VARCHAR(34000))\n",
    "FROM TD_HNSWPREDICT (\n",
    "    ON hnsw_model AS ModelTable\n",
    "    ON term_embedded AS InputTable DIMENSION\n",
    "    USING\n",
    "    IdColumn('id')\n",
    "    VectorColumn('Embedding')\n",
    "    EfSearch(16)\n",
    "    TopK(10)\n",
    "    OutputNearestVector('true')\n",
    ") d\n",
    "\n",
    "JOIN demo.amazon_reviews_25 r\n",
    "    ON r.id = d.nearest_neighbor_id\n",
    "\n",
    "ORDER BY d.distance;\n",
    "'''\n",
    "pd.read_sql(qry, eng)"
   ]
  },
  {
   "cell_type": "markdown",
   "id": "f7c4857d-4606-4136-9f1b-73fcb98026d1",
   "metadata": {},
   "source": [
    "<hr>\n",
    "<p style = 'font-size:16px;font-family:Arial;color:#00233C'><b>Inspect the Model</b></p>\n",
    "\n",
    "<p style = 'font-size:16px;font-family:Arial;color:#00233C'>Use <a href = 'https://docs.teradata.com/r/Enterprise_IntelliFlex_VMware/Database-Engine-20-In-Database-Analytic-Functions/Model-Evaluation-Functions/TD_HNSWSummary'>TD_HNSWSummary</a> to create human-readable model output.</p>"
   ]
  },
  {
   "cell_type": "code",
   "execution_count": null,
   "id": "9cf69733-d4e9-468d-b7ee-37f0130b9007",
   "metadata": {
    "tags": []
   },
   "outputs": [],
   "source": [
    "qry = '''\n",
    "SELECT amp_id, graph_id, node_id, layer_id, input_row_id, cast(node_vector\n",
    "as varchar(60)) as node_vector, num_neighbors, cast(neighbor_node_id as\n",
    "varchar(60)) as neighbor_node_id, cast(model_info as varchar(500)) as model_info \n",
    "\n",
    "FROM TD_HNSWSummary(\n",
    "    ON hnsw_model as ModelTable\n",
    ") as dt\n",
    "ORDER by 1,9;\n",
    "'''\n",
    "pd.read_sql(qry, eng)"
   ]
  },
  {
   "cell_type": "markdown",
   "id": "ed934eec-862f-49b5-8675-cbddee5ef106",
   "metadata": {},
   "source": [
    "<hr>\n",
    "<p style = 'font-size:20px;font-family:Arial;color:#00233C'><b>Demo 5 - Generate responses based on search results</b></p>\n",
    "\n",
    "<p style = 'font-size:16px;font-family:Arial;color:#00233C'>As mentioned above in <b>Demo 1</b>, one of the new AI Text Analytic functions is AI_ASKLLM, which allows users to pass custom context and prompts to a CSP-based Large Language Model</p>\n",
    "\n",
    "<p style = 'font-size:16px;font-family:Arial;color:#00233C'>The  <a href = 'https://docs.teradata.com/r/Lake-Analyze-Your-Data-with-ClearScape-AnalyticsTM/Text-Analytics-AI-Functions/AI_AskLLM'>AI_ASKLLM</a> function will create a custom prompt based on two user input tables - a set of context, and a set of questions.  A response will be generated for each row in the questions input.  This function can be used with SQL or python</p>\n",
    "\n",
    "<hr>\n",
    "<p style = 'font-size:16px;font-family:Arial;color:#00233C'><b>Python version</b></p>\n",
    "\n",
    "<p style = 'font-size:16px;font-family:Arial;color:#00233C'>The process is as follows:</p>\n",
    "<ol style = 'font-size:16px;font-family:Arial;color:#00233C'>\n",
    "    <li>Create the context table - in this case the similarity search results</li>\n",
    "    <li>Create the questions table - provide additional queries to pass to the prompt</li>\n",
    "    <li>Execute the AI_ASKLLM function</li>\n",
    "    </ol>"
   ]
  },
  {
   "cell_type": "code",
   "execution_count": null,
   "id": "4769e443-6306-486b-8731-35db0a0aeab4",
   "metadata": {
    "tags": []
   },
   "outputs": [],
   "source": [
    "qry = f'''\n",
    "CREATE TABLE search_context AS (\n",
    "SELECT r.id review_id, r.rev_text, d.distance\n",
    "FROM TD_HNSWPREDICT (\n",
    "    ON hnsw_model AS ModelTable\n",
    "    ON term_embedded AS InputTable DIMENSION\n",
    "    USING\n",
    "    IdColumn('id')\n",
    "    VectorColumn('Embedding')\n",
    "    EfSearch(16)\n",
    "    TopK(10)\n",
    "    OutputNearestVector('true')\n",
    ") d\n",
    "\n",
    "JOIN demo.amazon_reviews_25 r\n",
    "    ON r.id = d.nearest_neighbor_id) WITH DATA;\n",
    "'''\n",
    "try:\n",
    "    execute_sql('DROP TABLE search_context;')\n",
    "except Exception as e:\n",
    "    if 'does not exist' in str(e):\n",
    "        pass\n",
    "execute_sql(qry)\n",
    "pd.read_sql('SELECT * FROM search_context;', eng)"
   ]
  },
  {
   "cell_type": "code",
   "execution_count": null,
   "id": "90f6a240-df41-4709-b9f6-a575fd968a51",
   "metadata": {
    "tags": []
   },
   "outputs": [],
   "source": [
    "df = pd.DataFrame({'id':[0,1],\n",
    "                   'question':['Summarize the provided data, respond in French.','Did any one feel the book is thin?']})\n",
    "\n",
    "copy_to_sql(df, table_name = 'questions', temporary = True, if_exists = 'replace')"
   ]
  },
  {
   "cell_type": "code",
   "execution_count": null,
   "id": "87d79838-cf40-4a16-b2f0-8bb2ffc5f2bc",
   "metadata": {
    "tags": []
   },
   "outputs": [],
   "source": [
    "# key and secret in .env file\n",
    "load_dotenv()\n",
    "\n",
    "llm_aws = TeradataAI(\n",
    "    api_type = 'aws',\n",
    "    access_key = os.getenv('AWS_ACCESS_KEY_ID'),\n",
    "    secret_key = os.getenv('AWS_SECRET_ACCESS_KEY'),\n",
    "    region = os.getenv('AWS_DEFAULT_REGION'),\n",
    "    model_name = 'anthropic.claude-v2')\n",
    "\n",
    "# Instantiate the TextAnalyticsAI class with the ONNX model.\n",
    "obj = TextAnalyticsAI(llm = llm_aws)\n",
    "\n",
    "\n",
    "tdf_response = obj.ask(data = DataFrame('questions'), column = 'question', \n",
    "                        context = DataFrame('search_context'), context_column = 'rev_text',\n",
    "                        data_partition_column='id', context_partition_column='review_id',\n",
    "                        prompt='Provide an answer to the question using data as information relevant to the question. Question:\\n #QUESTION# \\nData: #DATA#',\n",
    "                        data_position='#DATA#',\n",
    "                        question_position='#QUESTION#')\n",
    "tdf_response"
   ]
  },
  {
   "cell_type": "markdown",
   "id": "4db5ee09-1fc3-4faa-8149-67c10e8f5a4c",
   "metadata": {},
   "source": [
    "<hr>\n",
    "<p style = 'font-size:16px;font-family:Arial;color:#00233C'><b>SQL version</b></p>"
   ]
  },
  {
   "cell_type": "code",
   "execution_count": null,
   "id": "be119e8f-52fb-447f-b770-a1e1455c7067",
   "metadata": {
    "tags": []
   },
   "outputs": [],
   "source": [
    "qry = '''\n",
    "SELECT * FROM AI_AskLLM( \n",
    "      ON questions AS InputTable partition by id\n",
    "      ON search_context AS ContextTable partition by review_id\n",
    "      USING   \n",
    "      TextColumn('question')\n",
    "      ContextColumn('rev_text')\n",
    "      ApiType('aws')\n",
    "      REGION('us-west-2')\n",
    "      Authorization(Repositories.BedrockAuth)\n",
    "      ModelName('anthropic.claude-v2')\n",
    "      Prompt('Provide an answer to the question using data as information relevant to the question. \\nQuestion: #QUESTION# \\n Data: #DATA#')\n",
    "      DATAPOSITION('#DATA#')\n",
    "      QUESTIONPOSITION('#QUESTION#')\n",
    "      Accumulate('[0:]')\n",
    "    ) as dt;\n",
    "'''\n",
    "pd.read_sql(qry, eng)"
   ]
  },
  {
   "cell_type": "markdown",
   "id": "4b3c9d60-8cd3-46e7-a9f9-1d1c0234480a",
   "metadata": {},
   "source": [
    "<hr>\n",
    "<p style = 'font-size:24px;font-family:Arial;color:#00233C'><b>Conclusion - Vector embedding and analytics - Vantage 3.1</b></p>\n",
    "\n",
    "\n",
    "\n",
    "<p style = 'font-size:16px;font-family:Arial;color:#00233C'>The preceding demo showed how users can leverage new vector datatype, Generative AI functions, and high-speed, advanced similarity search.</p>\n",
    "\n",
    "<hr>\n",
    "<p style = 'font-size:24px;font-family:Arial;color:#00233C'><b>Cleanup</b></p>\n",
    "\n",
    "\n",
    "\n",
    "<p style = 'font-size:16px;font-family:Arial;color:#00233C'>Disconnect from the database to remove all volatile tables.</p>"
   ]
  },
  {
   "cell_type": "code",
   "execution_count": null,
   "id": "3f90d381-d408-4276-bb71-e5a14cbc2043",
   "metadata": {
    "tags": []
   },
   "outputs": [],
   "source": [
    "db_drop_table('questions')\n",
    "db_drop_table('search_context')\n",
    "db_drop_table('term_embedded')"
   ]
  },
  {
   "cell_type": "code",
   "execution_count": null,
   "id": "7a8e43f9-6d83-4775-a9fa-be1261ebb6b1",
   "metadata": {
    "tags": []
   },
   "outputs": [],
   "source": [
    "remove_context()"
   ]
  }
 ],
 "metadata": {
  "kernelspec": {
   "display_name": "Python 3 (ipykernel)",
   "language": "python",
   "name": "python3"
  },
  "language_info": {
   "codemirror_mode": {
    "name": "ipython",
    "version": 3
   },
   "file_extension": ".py",
   "mimetype": "text/x-python",
   "name": "python",
   "nbconvert_exporter": "python",
   "pygments_lexer": "ipython3",
   "version": "3.10.11"
  }
 },
 "nbformat": 4,
 "nbformat_minor": 5
}
