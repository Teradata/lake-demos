{
 "cells": [
  {
   "cell_type": "markdown",
   "id": "respected-swing",
   "metadata": {},
   "source": [
    "## Load Data for Retail Comments Embedding Demo ##\n",
    "\n",
    "### Note - Be sure to populate bucket name and any required keys in vars.json ###\n",
    "1. **demo_ofs.web_comment**.  Customer Comment History - OFS"
   ]
  },
  {
   "cell_type": "code",
   "execution_count": 1,
   "id": "consistent-institution",
   "metadata": {
    "tags": []
   },
   "outputs": [],
   "source": [
    "import teradatasql, json\n",
    "\n",
    "# load vars json\n",
    "with open('../../../vars.json', 'r') as f:\n",
    "    session_vars = json.load(f)\n",
    "\n",
    "name = session_vars['hierarchy']['SYSDBA']['username']\n",
    "pwd = session_vars['hierarchy']['SYSDBA']['password']\n",
    "\n",
    "bucket = session_vars['environment']['bucket']\n",
    "\n",
    "with teradatasql.connect(host = session_vars['environment']['host'], \n",
    "                     user = name, \n",
    "                     password = pwd) as con:\n",
    "    cur = con.cursor()\n",
    "    try:\n",
    "        cur.execute('DROP TABLE demo_ofs.web_comment;')\n",
    "    except Exception as e:\n",
    "        # Table already exists\n",
    "        if str(e.args).find(\"3807\") >= 1:\n",
    "            pass\n",
    "        else:\n",
    "            raise\n",
    "            \n",
    "    qry = '''\n",
    "    CREATE MULTISET TABLE demo_ofs.web_comment\n",
    "    \n",
    "    (comment_id INTEGER,\n",
    "    customer_id INTEGER,\n",
    "    comment_text VARCHAR(50000) CHARACTER SET LATIN CASESPECIFIC,\n",
    "    comment_summary VARCHAR(50000) CHARACTER SET LATIN CASESPECIFIC);\n",
    "    '''\n",
    "    cur.execute(qry)\n",
    "    \n",
    "    qry = f'''\n",
    "    Insert into demo_ofs.web_comment\n",
    "    SELECT comment_id, customer_id, comment_text, comment_summary\n",
    "    FROM\n",
    "            (\n",
    "                LOCATION = '/s3/{bucket}.s3.amazonaws.com/DEMO_OFS/WEB_COMMENT/manifest.json'\n",
    "                MANIFEST = 'TRUE'\n",
    "                AUTHORIZATION = Repositories.PubAuth\n",
    "            ) D;'''\n",
    "    cur.execute(qry)"
   ]
  },
  {
   "cell_type": "code",
   "execution_count": null,
   "id": "chinese-finland",
   "metadata": {},
   "outputs": [],
   "source": []
  }
 ],
 "metadata": {
  "kernelspec": {
   "display_name": "Python 3 (ipykernel)",
   "language": "python",
   "name": "python3"
  },
  "language_info": {
   "codemirror_mode": {
    "name": "ipython",
    "version": 3
   },
   "file_extension": ".py",
   "mimetype": "text/x-python",
   "name": "python",
   "nbconvert_exporter": "python",
   "pygments_lexer": "ipython3",
   "version": "3.10.11"
  }
 },
 "nbformat": 4,
 "nbformat_minor": 5
}
