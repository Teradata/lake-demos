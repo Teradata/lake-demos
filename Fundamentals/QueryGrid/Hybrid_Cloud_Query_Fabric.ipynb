{
 "cells": [
  {
   "cell_type": "markdown",
   "id": "mineral-failing",
   "metadata": {},
   "source": [
    "<header>\n",
    "   <p  style='font-size:36px;font-family:Arial; color:#F0F0F0; background-color: #00233c; padding-left: 20pt; padding-top: 20pt;padding-bottom: 10pt; padding-right: 20pt;'>\n",
    "       Intelligent Hybrid and Multi-Cloud Orchestration with Vantage\n",
    "  <br>\n",
    "       <img id=\"teradata-logo\" src=\"images/TeradataLogo.png\" alt=\"Teradata\" style=\"width: 125px; height: auto; margin-top: 20pt;\">\n",
    "    </p>\n",
    "</header>\n",
    "<hr>"
   ]
  },
  {
   "cell_type": "markdown",
   "id": "aerial-hormone",
   "metadata": {},
   "source": [
    "<br>\n",
    "\n",
    "<p style = 'font-size:16px;font-family:Arial;color:#00233C'>Vantage allows users to access multiple cloud and on-premises environments, independently or in combination, in an integrated, orchestrated, and harmonious way.</p>\n",
    "\n",
    "<p style = 'font-size:16px;font-family:Arial;color:#00233C'>Only Vantage gives customers unrivaled flexibility in deployment options and the ability to access data where it lives – as opposed to the time-consuming and expensive process of moving it.</p> \n",
    "\n",
    "<hr>"
   ]
  },
  {
   "cell_type": "markdown",
   "id": "spiritual-balloon",
   "metadata": {},
   "source": [
    "<p style = 'font-size:28px;font-family:Arial;color:#00233C'><b>Bring Analytics to the Data with Vantage Query Fabric</b>\n",
    "<table style = 'width:100%;table-layout:fixed;'></b>\n",
    "    <tr>\n",
    "        <td style = 'vertical-align:top' width = '30%'>\n",
    "            <ul style = 'font-size:16px;font-family:Arial;color:#00233C'>\n",
    "                <li>Connect highly distributed workloads in an orchestrated and harmonious manner</li>\n",
    "                <br>\n",
    "                <li>Reduce data transfer and minimize egress charges with pushdown processing</li>\n",
    "                <br>\n",
    "                <li>Join data across tables and systems from multiple sources</li>\n",
    "                <br>\n",
    "                <li>Originate queries on any system on the fabric</li>\n",
    "            </ul>\n",
    "        </td>\n",
    "        <td width = '20%'></td>\n",
    "        <td><img src = 'images/overview.png' width = '600'></td>\n",
    "    </tr>\n",
    "</table>\n",
    "<hr>"
   ]
  },
  {
   "cell_type": "markdown",
   "id": "opening-illinois",
   "metadata": {},
   "source": [
    "<p style = 'font-size:28px;font-family:Arial;color:#00233C'><b>Demonstration</b></b>\n",
    "\n",
    "<p style = 'font-size:16px;font-family:Arial'>Vantage Query Fabric orchestrates workloads and optimizes data movement while leveraging low-cost storage with minor modifications to existing queries and API calls.</p>\n",
    "\n",
    "\n",
    "\n",
    "<table style = 'width:100%;table-layout:fixed;'>\n",
    "    <tr>\n",
    "        <td style = 'vertical-align:top' width = '30%'>\n",
    "            <p style = 'font-size:16px;font-family:Arial;color:#00233C'>The demonstration utilizes multiple systems configured with the Query Fabric</p>\n",
    "            <ul style = 'font-size:16px;font-family:Arial;color:#00233C'>\n",
    "                <li>VantageCloud in <b>\"Local\"</b> Region</li>\n",
    "                <br>\n",
    "                <li>VantageCloud Lake in <b>\"Remote\"</b> Region</li>\n",
    "                <br>\n",
    "                <li>Postgres Warehouse</li></ul>\n",
    "<p style = 'font-size:16px;font-family:Arial;color:#00233C'>And external catalog and storage systems</p>     \n",
    "                <ul style = 'font-size:16px;font-family:Arial;color:#00233C'>\n",
    "                <li>External Unity Catalog</li>\n",
    "                <br>\n",
    "                <li>ADLS V2 Storage Account</li>\n",
    "            </ul>\n",
    "           </td>\n",
    "        <td><img src = 'images/new_environment_2.png' width = '800'></td></tr></table>\n",
    "            <p style = 'font-size:16px;font-family:Arial;color:#00233C'>We are illustrating 4 use cases in this Jupyter Notebook, all with executable code:</p>\n",
    " <ol style = 'font-size:16px;font-family:Arial;color:#00233C'>\n",
    "                <li>Connect and Orchestrate Distributed Workloads</li>\n",
    "                <li>Reduce Data Storage, Transfer, and Egress Costs</li>\n",
    "                <li>Join data across multiple systems including external catalogs</li>\n",
    "                <li>Originate Queries across any system</li>\n",
    "            </ol>\n",
    "\n",
    "\n",
    "\n",
    "<hr>"
   ]
  },
  {
   "cell_type": "code",
   "execution_count": null,
   "id": "67c5bdc6-0b1c-4886-b0bf-8d1330c9aeb7",
   "metadata": {
    "tags": []
   },
   "outputs": [],
   "source": [
    "%addconnect name=VC_Local, host=XXX.XXX.XXX.XXX, user=data_engineer, hidewarnings=True"
   ]
  },
  {
   "cell_type": "code",
   "execution_count": null,
   "id": "eea47c8a-56ec-43a9-b5c2-99efdbcec7c6",
   "metadata": {
    "tags": []
   },
   "outputs": [],
   "source": [
    "%chconnect name=VC_Local, host=XXX.XXX.XXX.XXX"
   ]
  },
  {
   "cell_type": "code",
   "execution_count": null,
   "id": "48e6bdac-dea9-4bfc-b991-24dc4a312864",
   "metadata": {
    "tags": []
   },
   "outputs": [],
   "source": [
    "%addconnect name=VC_Lake, host=XXX.XXX.XXX.XXX, user=data_engineer, hidewarnings=True"
   ]
  },
  {
   "cell_type": "code",
   "execution_count": null,
   "id": "9fe390af-0a75-4ac7-ad50-03f13dfd2ad7",
   "metadata": {
    "tags": []
   },
   "outputs": [],
   "source": [
    "%chconnect name=VC_Lake, host=XXX.XXX.XXX.XXX"
   ]
  },
  {
   "cell_type": "markdown",
   "id": "mature-private",
   "metadata": {},
   "source": [
    "\n",
    "<p style = 'font-size:24px;font-family:Arial;color:#00233C'><b>Demo 1.  Connect and Orchestrate Distributed Workloads</b></p>\n",
    "\n",
    "<p style = 'font-size:16px;font-family:Arial;color:#00233C'>Vantage instances deployed to different clouds may be optimized for different workloads, support different cost profiles, or house different data sets.  Enterprises need to be able to leverage these heterogenous environments with maximum flexibility while ensuring data transfer and workload utilization is automatically optimized.</p>\n",
    "\n",
    "<p style = 'font-size:16px;font-family:Arial;color:#00233C'>In this demonstration, we connect to our Local VantageCloud and execute analytics on a Remote VantageCloud Lake and third-party data warehouse.</p>\n",
    "\n",
    "<table>\n",
    "    <tr>\n",
    "        <td style = 'vertical-align:top' width = '30%'>\n",
    "            <b style = 'font-size:16px;font-family:Arial;color:#00233C'>Steps</b>\n",
    "            <ol style = 'font-size:16px;font-family:Arial;color:#00233C'>\n",
    "                <li>Connect to local VantageCloud system</li>\n",
    "                <br>\n",
    "                <li>Execute ad-hoc data exploration using Compute Clusters in VantageCloud Lake</li>\n",
    "                <br>\n",
    "                <li>Using data retrieved from a remote Postgres warehouse</li>\n",
    "                <br>\n",
    "                <li>Return results to local system for validation</li>\n",
    "            </ol>\n",
    "        </td>\n",
    "        <td><img src = 'images/new_hybrid_workload_2.png' width='800'></td>\n",
    "    </tr>\n",
    "    </table>"
   ]
  },
  {
   "cell_type": "code",
   "execution_count": 1,
   "id": "liberal-bronze",
   "metadata": {
    "tags": []
   },
   "outputs": [
    {
     "name": "stdin",
     "output_type": "stream",
     "text": [
      "Password: ········\n"
     ]
    },
    {
     "name": "stdout",
     "output_type": "stream",
     "text": [
      "Success: 'VC_Local' connection established and activated for user 'data_engineer'\n"
     ]
    }
   ],
   "source": [
    "%connect VC_Local"
   ]
  },
  {
   "cell_type": "code",
   "execution_count": 2,
   "id": "physical-amateur",
   "metadata": {
    "tags": []
   },
   "outputs": [
    {
     "data": {
      "application/vnd.teradata.resultset": "\"ColumnName\",\"Label\",\"MinValue\",\"MaxValue\",\"CountOfValues\",\"Bin_Percent\"\n\"amount\",\"2\",\"1e+07\",\"1.5e+07\",\"46\",\"0.11000047826294898\"\n\"amount\",\"0\",\"0\",\"5e+06\",\"41704\",\"99.72739011908747\"\n\"amount\",\"6\",\"3e+07\",\"3.5e+07\",\"1\",\"0.0023913147448467167\"\n\"amount\",\"3\",\"1.5e+07\",\"2e+07\",\"8\",\"0.019130517958773734\"\n\"amount\",\"5\",\"2.5e+07\",\"3e+07\",\"0\",\"0\"\n\"amount\",\"1\",\"5e+06\",\"1e+07\",\"54\",\"0.1291309962217227\"\n\"amount\",\"7\",\"3.5e+07\",\"4e+07\",\"1\",\"0.0023913147448467167\"\n\"amount\",\"4\",\"2e+07\",\"2.5e+07\",\"4\",\"0.009565258979386867\"",
      "text/html": [
       "<div class = \"td-resultset-table-div\" style = \"max-height: 100%; overflow-y: auto\">\n",
       "      <table class=\"tdhistory67706\"><style>\n",
       "      table.tdhistory67706 { display: block !important; min-height: 252px !important; overflow: auto !important; height: 252px !important; width: 100% !important; border: 1px solid rgb(207, 207, 207) !important; border-collapse: collapse !important; ; color: var(--jp-ui-font-color1) !important; }\n",
       "      th.tdhistory67706 { border: 1px solid rgb(198,198,198) !important; border-collapse: collapse !important; ; padding: 2px 5px !important; ; font-size: 13px !important; ; text-align: center !important; white-space: normal !important; color: var(--jp-ui-font-color1) !important; }\n",
       "      th.tdhistory67706:last-child { text-align: left !important; }\n",
       "      tbody.tdhistory67706 tr:nth-child(even) { background: rgba(243, 243, 243, 0.75) !important; }\n",
       "      tbody.tdhistory67706 tr:nth-child(odd) { background: var(--jp-ui-inverse-font-color1) !important; }\n",
       "      td.tdhistory67706 { border: 1px solid rgb(207, 207, 207) !important; border-collapse: collapse !important; ; padding: 2px 5px !important; ; font-size: 13px !important; ; text-align: left !important;          white-space: nowrap !important; overflow:hidden !important; text-overflow:ellipsis !important;; }\n",
       "    </style><thead><tr style= \"background: rgba(243, 243, 243, 0.75)\"><th class=\"tdhistory67706\"></th><th class=\"tdhistory67706\">ColumnName</th><th class=\"tdhistory67706\">Label</th><th class=\"tdhistory67706\">MinValue</th><th class=\"tdhistory67706\">MaxValue</th><th class=\"tdhistory67706\">CountOfValues</th><th class=\"tdhistory67706\">Bin_Percent</th></tr></thead><tbody class=\"tdhistory67706 resultset-body\"><tr><th class=\"tdhistory67706\" style= \"background: rgba(243, 243, 243, 0.75)\">1</th><td class=\"tdhistory67706\">amount</td><td class=\"tdhistory67706\">2</td><td class=\"tdhistory67706\">1e+07</td><td class=\"tdhistory67706\">1.5e+07</td><td class=\"tdhistory67706\">46</td><td class=\"tdhistory67706\">0.11000047826294898</td></tr><tr><th class=\"tdhistory67706\" style= \"background: rgba(243, 243, 243, 0.75)\">2</th><td class=\"tdhistory67706\">amount</td><td class=\"tdhistory67706\">0</td><td class=\"tdhistory67706\">0</td><td class=\"tdhistory67706\">5e+06</td><td class=\"tdhistory67706\">41704</td><td class=\"tdhistory67706\">99.72739011908747</td></tr><tr><th class=\"tdhistory67706\" style= \"background: rgba(243, 243, 243, 0.75)\">3</th><td class=\"tdhistory67706\">amount</td><td class=\"tdhistory67706\">6</td><td class=\"tdhistory67706\">3e+07</td><td class=\"tdhistory67706\">3.5e+07</td><td class=\"tdhistory67706\">1</td><td class=\"tdhistory67706\">0.0023913147448467167</td></tr><tr><th class=\"tdhistory67706\" style= \"background: rgba(243, 243, 243, 0.75)\">4</th><td class=\"tdhistory67706\">amount</td><td class=\"tdhistory67706\">3</td><td class=\"tdhistory67706\">1.5e+07</td><td class=\"tdhistory67706\">2e+07</td><td class=\"tdhistory67706\">8</td><td class=\"tdhistory67706\">0.019130517958773734</td></tr><tr><th class=\"tdhistory67706\" style= \"background: rgba(243, 243, 243, 0.75)\">5</th><td class=\"tdhistory67706\">amount</td><td class=\"tdhistory67706\">5</td><td class=\"tdhistory67706\">2.5e+07</td><td class=\"tdhistory67706\">3e+07</td><td class=\"tdhistory67706\">0</td><td class=\"tdhistory67706\">0</td></tr><tr><th class=\"tdhistory67706\" style= \"background: rgba(243, 243, 243, 0.75)\">6</th><td class=\"tdhistory67706\">amount</td><td class=\"tdhistory67706\">1</td><td class=\"tdhistory67706\">5e+06</td><td class=\"tdhistory67706\">1e+07</td><td class=\"tdhistory67706\">54</td><td class=\"tdhistory67706\">0.1291309962217227</td></tr><tr><th class=\"tdhistory67706\" style= \"background: rgba(243, 243, 243, 0.75)\">7</th><td class=\"tdhistory67706\">amount</td><td class=\"tdhistory67706\">7</td><td class=\"tdhistory67706\">3.5e+07</td><td class=\"tdhistory67706\">4e+07</td><td class=\"tdhistory67706\">1</td><td class=\"tdhistory67706\">0.0023913147448467167</td></tr><tr><th class=\"tdhistory67706\" style= \"background: rgba(243, 243, 243, 0.75)\">8</th><td class=\"tdhistory67706\">amount</td><td class=\"tdhistory67706\">4</td><td class=\"tdhistory67706\">2e+07</td><td class=\"tdhistory67706\">2.5e+07</td><td class=\"tdhistory67706\">4</td><td class=\"tdhistory67706\">0.009565258979386867</td></tr></tbody></table></div>"
      ]
     },
     "execution_count": 2,
     "metadata": {
      "application/vnd.teradata.resultset": "{\"resultSetID\":\"/home/jovyan/JupyterLabRoot/Teradata/Resultsets/2025.06.02_13.55.06.036_UTC\",\"historyID\":1928,\"chunkID\":\"00001\",\"sessionid\":\"\",\"portnum\":\"\",\"dockermode\":\"docker\",\"totalRowCount\":8,\"chunkCount\":0,\"rowLimit\":0,\"columnMetadata\":[{\"columnName\":\"ColumnName\",\"columnTypeName\":\"VARCHAR\",\"length\":128,\"scale\":128},{\"columnNumber\":1,\"columnName\":\"Label\",\"columnTypeName\":\"BIGINT\"},{\"columnNumber\":2,\"columnName\":\"MinValue\",\"columnTypeName\":\"FLOAT\"},{\"columnNumber\":3,\"columnName\":\"MaxValue\",\"columnTypeName\":\"FLOAT\"},{\"columnNumber\":4,\"columnName\":\"CountOfValues\",\"columnTypeName\":\"BIGINT\"},{\"columnNumber\":5,\"columnName\":\"Bin_Percent\",\"columnTypeName\":\"FLOAT\"}]}"
     },
     "output_type": "execute_result"
    }
   ],
   "source": [
    "SELECT * -- Retrieve results back to local\n",
    "\n",
    "FROM FOREIGN TABLE (\n",
    "                    SELECT * FROM TD_Histogram(\n",
    "                            ON (SELECT * FROM demo_schema.txn_history@FS_Postgres) as InputTable -- Input data in Postgres\n",
    "                    USING\n",
    "                        TargetColumn('amount')\n",
    "                        MethodType('STURGES')\n",
    "                        ) as dt\n",
    "                    )@FS_Lake --Execute this whole statement in Lake on analytic clusters\n",
    "d;"
   ]
  },
  {
   "cell_type": "markdown",
   "id": "front-rebecca",
   "metadata": {},
   "source": [
    "<hr>\n",
    "\n",
    "<p style = 'font-size:24px;font-family:Arial;color:#00233C'><b>Demo 2.  Reduce Data Storage, Transfer, and Egress Costs</b></p>\n",
    "\n",
    "<p style = 'font-size:16px;font-family:Arial;color:#00233C'><b>Utilize Push-Down Processing and Integration with In-Region Object Storage</b></p>\n",
    "\n",
    "<p style = 'font-size:16px;font-family:Arial;color:#00233C'>Push-Down processing ensures queries are executed as close as possible to the data in order to minimize data egress costs.</p>\n",
    "<p style = 'font-size:16px;font-family:Arial;color:#00233C'>Localized access to low-cost Object Storage using <b>Native Object Store (NOS)</b> APIs leverages in-region/no cost data access, and optimization of the final data transfer out of the Cloud environment.</p>\n",
    "\n",
    "<table>\n",
    "    <tr>\n",
    "        <td style = 'vertical-align:top' width = '30%'>\n",
    "            <b style = 'font-size:16px;font-family:Arial;color:#00233C'>Steps</b>\n",
    "            <ol style = 'font-size:16px;font-family:Arial;color:#00233C'>\n",
    "                <li>Connect to Local VantageCloud System</li>\n",
    "                <br>\n",
    "                <li>Initiate a query in Remote VantageCloud Lake System</li>\n",
    "                <br>\n",
    "                <li>Remote Vantage queries data resident in Object Storage</li>\n",
    "                <br>\n",
    "                <li>Remote Vantage processes the data and returns final data set</li>\n",
    "            </ol>\n",
    "        </td>\n",
    "        <td><img src='images/nos_adls_2.png' width = '6800'></td>\n",
    "    </tr>\n",
    "    </table>"
   ]
  },
  {
   "cell_type": "code",
   "execution_count": 3,
   "id": "conscious-begin",
   "metadata": {
    "tags": []
   },
   "outputs": [
    {
     "name": "stdin",
     "output_type": "stream",
     "text": [
      "Password: ········\n"
     ]
    },
    {
     "name": "stdout",
     "output_type": "stream",
     "text": [
      "Success: 'VC_Lake' connection established and activated for user 'data_engineer'\n"
     ]
    }
   ],
   "source": [
    "%connect VC_Lake"
   ]
  },
  {
   "cell_type": "code",
   "execution_count": 4,
   "id": "f3c0334d-3331-44e2-9eb7-83a4633be666",
   "metadata": {},
   "outputs": [
    {
     "data": {
      "application/vnd.teradata.resultset": "\"Request Text\"\n\"CREATE MULTISET FOREIGN TABLE demo.airline_data_adls ,FALLBACK ,\r     MAP = TD_MAP2\r     (\r      Location VARCHAR(2048) CHARACTER SET UNICODE CASESPECIFIC,\r      Passenger_ID VARCHAR(10) CHARACTER SET LATIN NOT CASESPECIFIC,\r      First_Name VARCHAR(20) CHARACTER SET LATIN NOT CASESPECIFIC,\r      Last_Name VARCHAR(20) CHARACTER SET LATIN NOT CASESPECIFIC,\r      Gender VARCHAR(10) CHARACTER SET LATIN NOT CASESPECIFIC,\r      Age BIGINT,\r      Nationality VARCHAR(20) CHARACTER SET LATIN NOT CASESPECIFIC,\r      Airport_Name VARCHAR(50) CHARACTER SET LATIN NOT CASESPECIFIC,\r      Airport_Country_Code VARCHAR(10) CHARACTER SET LATIN NOT CASESPECIFIC,\r      Country_Name VARCHAR(50) CHARACTER SET LATIN NOT CASESPECIFIC,\r      Airport_Continent VARCHAR(30) CHARACTER SET LATIN NOT CASESPECIFIC,\r      Continents VARCHAR(20) CHARACTER SET LATIN NOT CASESPECIFIC,\r      Departure_Date DATE FORMAT 'YY/MM/DD',\r      Arrival_Airport VARCHAR(50) CHARACTER SET LATIN NOT CASESPECIFIC,\r      Pilot_Name VARCHAR(100) CHARACTER SET LATIN NOT CASESPECIFIC,\r      Flight_Status VARCHAR(20) CHARACTER SET LATIN NOT CASESPECIFIC)\rUSING\r(\r      LOCATION  ('/az/tdazdemo.blob.core.windows.net/trialdata/airline_data/')\r      STOREDAS  ('PARQUET')\r      MANIFEST  ('FALSE')\r      PATHPATTERN  ('$var1/$var2')\r)\rNO PRIMARY INDEX \rPARTITION BY COLUMN ADD 65516;\"",
      "text/html": [
       "<div class = \"td-resultset-table-div\" style = \"max-height: 100%; overflow-y: auto\">\n",
       "      <table class=\"tdhistory68017\"><style>\n",
       "      table.tdhistory68017 { display: block !important; min-height: 105px !important; overflow: auto !important; height: 105px !important; width: 100% !important; border: 1px solid rgb(207, 207, 207) !important; border-collapse: collapse !important; ; color: var(--jp-ui-font-color1) !important; }\n",
       "      th.tdhistory68017 { border: 1px solid rgb(198,198,198) !important; border-collapse: collapse !important; ; padding: 2px 5px !important; ; font-size: 13px !important; ; text-align: center !important; white-space: normal !important; color: var(--jp-ui-font-color1) !important; }\n",
       "      th.tdhistory68017:last-child { text-align: left !important; }\n",
       "      tbody.tdhistory68017 tr:nth-child(even) { background: rgba(243, 243, 243, 0.75) !important; }\n",
       "      tbody.tdhistory68017 tr:nth-child(odd) { background: var(--jp-ui-inverse-font-color1) !important; }\n",
       "      td.tdhistory68017 { border: 1px solid rgb(207, 207, 207) !important; border-collapse: collapse !important; ; padding: 2px 5px !important; ; font-size: 13px !important; ; text-align: left !important;          white-space: nowrap !important; overflow:hidden !important; text-overflow:ellipsis !important;; }\n",
       "    </style><thead><tr style= \"background: rgba(243, 243, 243, 0.75)\"><th class=\"tdhistory68017\"></th><th class=\"tdhistory68017\">Request Text</th></tr></thead><tbody class=\"tdhistory68017 resultset-body\"><tr><th class=\"tdhistory68017\" style= \"background: rgba(243, 243, 243, 0.75)\">1</th><td class=\"tdhistory68017\">CREATE MULTISET FOREIGN TABLE demo.airline_data_adls ,FALLBACK ,\r",
       "     MAP = TD_MAP2\r",
       "     (\r",
       "      Location VARCHAR(2048) CHARACTER SET UNICODE CASESPECIFIC,\r",
       "      Passenger_ID VARCHAR(10) CHARACTER SET LATIN NOT CASESPECIFIC,\r",
       "      First_Name VARCHAR(20) CHARACTER SET LATIN NOT CASESPECIFIC,\r",
       "      Last_Name VARCHAR(20) CHARACTER SET LATIN NOT CASESPECIFIC,\r",
       "      Gender VARCHAR(10) CHARACTER SET LATIN NOT CASESPECIFIC,\r",
       "      Age BIGINT,\r",
       "      Nationality VARCHAR(20) CHARACTER SET LATIN NOT CASESPECIFIC,\r",
       "      Airport_Name VARCHAR(50) CHARACTER SET LATIN NOT CASESPECIFIC,\r",
       "      Airport_Country_Code VARCHAR(10) CHARACTER SET LATIN NOT CASESPECIFIC,\r",
       "      Country_Name VARCHAR(50) CHARACTER SET LATIN NOT CASESPECIFIC,\r",
       "      Airport_Continent VARCHAR(30) CHARACTER SET LATIN NOT CASESPECIFIC,\r",
       "      Continents VARCHAR(20) CHARACTER SET LATIN NOT CASESPECIFIC,\r",
       "      Departure_Date DATE FORMAT 'YY/MM/DD',\r",
       "      Arrival_Airport VARCHAR(50) CHARACTER SET LATIN NOT CASESPECIFIC,\r",
       "      Pilot_Name VARCHAR(100) CHARACTER SET LATIN NOT CASESPECIFIC,\r",
       "      Flight_Status VARCHAR(20) CHARACTER SET LATIN NOT CASESPECIFIC)\r",
       "USING\r",
       "(\r",
       "      LOCATION  ('/az/tdazdemo.blob.core.windows.net/trialdata/airline_data/')\r",
       "      STOREDAS  ('PARQUET')\r",
       "      MANIFEST  ('FALSE')\r",
       "      PATHPATTERN  ('$var1/$var2')\r",
       ")\r",
       "NO PRIMARY INDEX \r",
       "PARTITION BY COLUMN ADD 65516;</td></tr></tbody></table></div>"
      ]
     },
     "execution_count": 4,
     "metadata": {
      "application/vnd.teradata.resultset": "{\"resultSetID\":\"/home/jovyan/JupyterLabRoot/Teradata/Resultsets/2025.05.29_12.48.00.329_UTC\",\"historyID\":1845,\"chunkID\":\"00001\",\"sessionid\":\"\",\"portnum\":\"\",\"dockermode\":\"docker\",\"totalRowCount\":1,\"chunkCount\":0,\"rowLimit\":0,\"columnMetadata\":[{\"columnName\":\"Request Text\",\"columnTypeName\":\"VARCHAR\",\"length\":1344,\"scale\":1344}]}"
     },
     "output_type": "execute_result"
    }
   ],
   "source": [
    "SHOW TABLE demo.airline_data_adls;"
   ]
  },
  {
   "cell_type": "code",
   "execution_count": 37,
   "id": "remarkable-excuse",
   "metadata": {},
   "outputs": [
    {
     "ename": "ERROR",
     "evalue": "Unable to run SQL: Unable to run SQL query: Database reported error:3803:Table 'airline_data_adls' already exists.",
     "output_type": "error",
     "traceback": [
      "Unable to run SQL: Unable to run SQL query: Database reported error:3803:Table 'airline_data_adls' already exists."
     ]
    }
   ],
   "source": [
    "CREATE FOREIGN TABLE demo.airline_data_adls\n",
    "     (\n",
    "      Location VARCHAR(2048) CHARACTER SET UNICODE CASESPECIFIC,\n",
    "      Passenger_ID VARCHAR(10),\n",
    "      First_Name VARCHAR(20),\n",
    "      Last_Name VARCHAR(20),\n",
    "      Gender VARCHAR(10),\n",
    "      Age BIGINT,\n",
    "      Nationality VARCHAR(20),\n",
    "      Airport_Name VARCHAR(50),\n",
    "      Airport_Country_Code VARCHAR(10),\n",
    "      Country_Name VARCHAR(50),\n",
    "      Airport_Continent VARCHAR(30),\n",
    "      Continents VARCHAR(20),\n",
    "      Departure_Date DATE FORMAT 'YY/MM/DD',\n",
    "      Arrival_Airport VARCHAR(50),\n",
    "      Pilot_Name VARCHAR(100),\n",
    "      Flight_Status VARCHAR(20))\n",
    "USING\n",
    "(\n",
    "      LOCATION  ('/az/tdazdemo.blob.core.windows.net/trialdata/airline_data/')\n",
    "      STOREDAS  ('PARQUET')\n",
    ")\n",
    "NO PRIMARY INDEX;"
   ]
  },
  {
   "cell_type": "code",
   "execution_count": 5,
   "id": "dbfb00d4-059d-40ca-8b3c-b27354fc96e8",
   "metadata": {
    "tags": []
   },
   "outputs": [
    {
     "name": "stdout",
     "output_type": "stream",
     "text": [
      "Connected: 'VC_Local' connection activated for user 'data_engineer'\n"
     ]
    }
   ],
   "source": [
    "%connect VC_Local"
   ]
  },
  {
   "cell_type": "code",
   "execution_count": 7,
   "id": "architectural-universe",
   "metadata": {
    "tags": []
   },
   "outputs": [
    {
     "data": {
      "application/vnd.teradata.resultset": "\"Country_Name\",\"num_passengers\",\"AGE\"\n\"United States\",\"22104\",\"45.56139160332972\"\n\"Australia\",\"6370\",\"45.39905808477237\"\n\"Canada\",\"5424\",\"45.68713126843658\"\n\"Brazil\",\"4504\",\"45.71536412078153\"\n\"Papua New Guinea\",\"4081\",\"45.47463856897819\"\n\"China\",\"2779\",\"45.18711766822598\"\n\"Indonesia\",\"2358\",\"45.64249363867685\"\n\"Russian Federation\",\"2247\",\"45.6906987093903\"\n\"Colombia\",\"1643\",\"45.835666463785756\"\n\"India\",\"1486\",\"45.13458950201884\"",
      "text/html": [
       "<div class = \"td-resultset-table-div\" style = \"max-height: 100%; overflow-y: auto\">\n",
       "      <table class=\"tdhistory653987\"><style>\n",
       "      table.tdhistory653987 { display: block !important; min-height: 294px !important; overflow: auto !important; height: 294px !important; width: 100% !important; border: 1px solid rgb(207, 207, 207) !important; border-collapse: collapse !important; ; color: var(--jp-ui-font-color1) !important; }\n",
       "      th.tdhistory653987 { border: 1px solid rgb(198,198,198) !important; border-collapse: collapse !important; ; padding: 2px 5px !important; ; font-size: 13px !important; ; text-align: center !important; white-space: normal !important; color: var(--jp-ui-font-color1) !important; }\n",
       "      th.tdhistory653987:last-child { text-align: left !important; }\n",
       "      tbody.tdhistory653987 tr:nth-child(even) { background: rgba(243, 243, 243, 0.75) !important; }\n",
       "      tbody.tdhistory653987 tr:nth-child(odd) { background: var(--jp-ui-inverse-font-color1) !important; }\n",
       "      td.tdhistory653987 { border: 1px solid rgb(207, 207, 207) !important; border-collapse: collapse !important; ; padding: 2px 5px !important; ; font-size: 13px !important; ; text-align: left !important;          white-space: nowrap !important; overflow:hidden !important; text-overflow:ellipsis !important;; }\n",
       "    </style><thead><tr style= \"background: rgba(243, 243, 243, 0.75)\"><th class=\"tdhistory653987\"></th><th class=\"tdhistory653987\">Country_Name</th><th class=\"tdhistory653987\">num_passengers</th><th class=\"tdhistory653987\">AGE</th></tr></thead><tbody class=\"tdhistory653987 resultset-body\"><tr><th class=\"tdhistory653987\" style= \"background: rgba(243, 243, 243, 0.75)\">1</th><td class=\"tdhistory653987\">United States</td><td class=\"tdhistory653987\">22104</td><td class=\"tdhistory653987\">45.56139160332972</td></tr><tr><th class=\"tdhistory653987\" style= \"background: rgba(243, 243, 243, 0.75)\">2</th><td class=\"tdhistory653987\">Australia</td><td class=\"tdhistory653987\">6370</td><td class=\"tdhistory653987\">45.39905808477237</td></tr><tr><th class=\"tdhistory653987\" style= \"background: rgba(243, 243, 243, 0.75)\">3</th><td class=\"tdhistory653987\">Canada</td><td class=\"tdhistory653987\">5424</td><td class=\"tdhistory653987\">45.68713126843658</td></tr><tr><th class=\"tdhistory653987\" style= \"background: rgba(243, 243, 243, 0.75)\">4</th><td class=\"tdhistory653987\">Brazil</td><td class=\"tdhistory653987\">4504</td><td class=\"tdhistory653987\">45.71536412078153</td></tr><tr><th class=\"tdhistory653987\" style= \"background: rgba(243, 243, 243, 0.75)\">5</th><td class=\"tdhistory653987\">Papua New Guinea</td><td class=\"tdhistory653987\">4081</td><td class=\"tdhistory653987\">45.47463856897819</td></tr><tr><th class=\"tdhistory653987\" style= \"background: rgba(243, 243, 243, 0.75)\">6</th><td class=\"tdhistory653987\">China</td><td class=\"tdhistory653987\">2779</td><td class=\"tdhistory653987\">45.18711766822598</td></tr><tr><th class=\"tdhistory653987\" style= \"background: rgba(243, 243, 243, 0.75)\">7</th><td class=\"tdhistory653987\">Indonesia</td><td class=\"tdhistory653987\">2358</td><td class=\"tdhistory653987\">45.64249363867685</td></tr><tr><th class=\"tdhistory653987\" style= \"background: rgba(243, 243, 243, 0.75)\">8</th><td class=\"tdhistory653987\">Russian Federation</td><td class=\"tdhistory653987\">2247</td><td class=\"tdhistory653987\">45.6906987093903</td></tr><tr><th class=\"tdhistory653987\" style= \"background: rgba(243, 243, 243, 0.75)\">9</th><td class=\"tdhistory653987\">Colombia</td><td class=\"tdhistory653987\">1643</td><td class=\"tdhistory653987\">45.835666463785756</td></tr><tr><th class=\"tdhistory653987\" style= \"background: rgba(243, 243, 243, 0.75)\">10</th><td class=\"tdhistory653987\">India</td><td class=\"tdhistory653987\">1486</td><td class=\"tdhistory653987\">45.13458950201884</td></tr></tbody></table></div>"
      ]
     },
     "execution_count": 7,
     "metadata": {
      "application/vnd.teradata.resultset": "{\"resultSetID\":\"/home/jovyan/JupyterLabRoot/Teradata/Resultsets/2025.05.29_12.48.57.052_UTC\",\"historyID\":1847,\"chunkID\":\"00001\",\"sessionid\":\"\",\"portnum\":\"\",\"dockermode\":\"docker\",\"totalRowCount\":10,\"chunkCount\":0,\"rowLimit\":0,\"columnMetadata\":[{\"columnName\":\"Country_Name\",\"columnTypeName\":\"VARCHAR\",\"length\":50,\"scale\":50},{\"columnNumber\":1,\"columnName\":\"num_passengers\",\"columnTypeName\":\"INTEGER\"},{\"columnNumber\":2,\"columnName\":\"AGE\",\"columnTypeName\":\"FLOAT\"}]}"
     },
     "output_type": "execute_result"
    }
   ],
   "source": [
    "/* \n",
    "What is the average age and count of passengers by origin country?\n",
    "Data is stored in ADLSV2\n",
    "*/\n",
    "SELECT TOP 10 Country_Name, \n",
    "        COUNT(Passenger_ID) num_passengers, \n",
    "        AVG(Age) \n",
    "FROM demo.airline_data_adls@FS_Lake --Foreign Table in Vantage that points to Parquet Data in ADLSV2\n",
    "GROUP BY Country_Name\n",
    "ORDER BY 2 DESC;"
   ]
  },
  {
   "cell_type": "markdown",
   "id": "adapted-blanket",
   "metadata": {},
   "source": [
    "<hr>\n",
    "\n",
    "<p style = 'font-size:24px;font-family:Arial;color:#00233C'><b>Demo 3.  Join Data Across Tables and Systems From Multiple Sources</b></p>\n",
    "\n",
    "<p style = 'font-size:16px;font-family:Arial;color:#00233C'>Vantage allows you to connect multiple data sets between clouds using simple SQL syntax.  This demonstration also includes a native query to an external <b>Unity Catalog</b>.  Queries can analyze data stored in local or remote Vantage systems, and in external Open Table Formats, while automatically optimizing the amount of data transferred to maximize performance and minimize cost. Users can create a database <b>View</b> to simplify operations.</p>\n",
    "\n",
    "<table>\n",
    "    <tr>\n",
    "        <td style = 'vertical-align:top' width = '30%'>\n",
    "            <b style = 'font-size:16px;font-family:Arial;color:#00233C'>Steps</b>\n",
    "            <ol style = 'font-size:16px;font-family:Arial;color:#00233C'>\n",
    "                <li>Connect to Remote VantageCloud Lake system</li>\n",
    "                <br>\n",
    "                <li>Execute query joining local data, remote data, and data in Unity or other <b>Open Table Format</b></li>\n",
    "                <br>\n",
    "                <li>Local Vantage performs its own filtering to reduce data transfer</li>\n",
    "                <br>\n",
    "                <li>Data is joined back in Remote Lake system</li>\n",
    "            </ol>\n",
    "        </td>\n",
    "        <td><img src='images/multi_join_2.png' width = '800'></td>\n",
    "    </tr>\n",
    "    </table>"
   ]
  },
  {
   "cell_type": "code",
   "execution_count": 8,
   "id": "honest-sandwich",
   "metadata": {
    "tags": []
   },
   "outputs": [
    {
     "name": "stdout",
     "output_type": "stream",
     "text": [
      "Connected: 'VC_Lake' connection activated for user 'data_engineer'\n"
     ]
    }
   ],
   "source": [
    "%connect VC_Lake, hidewarnings=True"
   ]
  },
  {
   "cell_type": "code",
   "execution_count": 9,
   "id": "927e28ef-aeae-40d6-bb9c-2159cd2b6f95",
   "metadata": {
    "tags": []
   },
   "outputs": [
    {
     "data": {
      "text/plain": [
       "Success: 12 rows affected"
      ]
     },
     "execution_count": 9,
     "metadata": {
      "application/vnd.teradata.resultset": ""
     },
     "output_type": "execute_result"
    }
   ],
   "source": [
    "/* Create a view to simplify the remote table operation)\n",
    "Include the foreign server name */\n",
    "\n",
    "REPLACE VIEW local_dimension_V AS (SELECT *\n",
    "    FROM FOREIGN TABLE (SELECT * FROM demo.retail_customer)@FS_Local d);"
   ]
  },
  {
   "cell_type": "code",
   "execution_count": 10,
   "id": "helpful-ribbon",
   "metadata": {
    "tags": []
   },
   "outputs": [
    {
     "data": {
      "application/vnd.teradata.resultset": "\"F_NAME\",\"L_NAME\",\"EVENT\",\"DATESTAMP\",\"comment_summary\"\n\"Jeromy\",\"Hughes\",\"Purchase\",\"2018-04-07 10:12:00.000000\",\" i normally wear medium or small tops. fit runs a little large\"\n\"Rubin\",\"Lowe\",\"Return Policy Inquiry\",\"2018-04-22 18:28:00.000000\",\"\"\n\"Virgil\",\"Montoya\",\"Mem Purchase\",\"2018-03-28 12:10:00.000000\",\"Scooped knit slip\"\n\"Kirsten\",\"Davies\",\"Neutral Call\",\"2018-03-13 08:25:00.000000\",\"Skip it\"\n\"Boyce\",\"Blackburn\",\"Neutral Call\",\"2018-05-01 11:14:00.000000\",\"\"\n\"Dean\",\"King\",\"Purchase\",\"2018-05-02 22:15:00.000000\",\"Great basic!\"\n\"Norris\",\"Daniel\",\"Return Policy Inquiry\",\"2018-03-28 00:13:00.000000\",\"Wide legs but good quality\"\n\"Harriett\",\"Murillo\",\"Web Chat\",\"2018-05-01 09:00:00.000000\",\"Are you kidding?\"\n\"Gabriela\",\"Osborn\",\"Web Chat\",\"2018-03-20 07:33:00.000000\",\"Delightful, different, gets dirty asap\"\n\"Velma\",\"Gill\",\"Mem Purchase\",\"2018-04-24 02:18:00.000000\",\"\"",
      "text/html": [
       "<div class = \"td-resultset-table-div\" style = \"max-height: 100%; overflow-y: auto\">\n",
       "      <table class=\"tdhistory531308\"><style>\n",
       "      table.tdhistory531308 { display: block !important; min-height: 294px !important; overflow: auto !important; height: 294px !important; width: 100% !important; border: 1px solid rgb(207, 207, 207) !important; border-collapse: collapse !important; ; color: var(--jp-ui-font-color1) !important; }\n",
       "      th.tdhistory531308 { border: 1px solid rgb(198,198,198) !important; border-collapse: collapse !important; ; padding: 2px 5px !important; ; font-size: 13px !important; ; text-align: center !important; white-space: normal !important; color: var(--jp-ui-font-color1) !important; }\n",
       "      th.tdhistory531308:last-child { text-align: left !important; }\n",
       "      tbody.tdhistory531308 tr:nth-child(even) { background: rgba(243, 243, 243, 0.75) !important; }\n",
       "      tbody.tdhistory531308 tr:nth-child(odd) { background: var(--jp-ui-inverse-font-color1) !important; }\n",
       "      td.tdhistory531308 { border: 1px solid rgb(207, 207, 207) !important; border-collapse: collapse !important; ; padding: 2px 5px !important; ; font-size: 13px !important; ; text-align: left !important;          white-space: nowrap !important; overflow:hidden !important; text-overflow:ellipsis !important;; }\n",
       "    </style><thead><tr style= \"background: rgba(243, 243, 243, 0.75)\"><th class=\"tdhistory531308\"></th><th class=\"tdhistory531308\">F_NAME</th><th class=\"tdhistory531308\">L_NAME</th><th class=\"tdhistory531308\">EVENT</th><th class=\"tdhistory531308\">DATESTAMP</th><th class=\"tdhistory531308\">comment_summary</th></tr></thead><tbody class=\"tdhistory531308 resultset-body\"><tr><th class=\"tdhistory531308\" style= \"background: rgba(243, 243, 243, 0.75)\">1</th><td class=\"tdhistory531308\">Jeromy</td><td class=\"tdhistory531308\">Hughes</td><td class=\"tdhistory531308\">Purchase</td><td class=\"tdhistory531308\">2018-04-07 10:12:00.000000</td><td class=\"tdhistory531308\"> i normally wear medium or small tops. fit runs a little large</td></tr><tr><th class=\"tdhistory531308\" style= \"background: rgba(243, 243, 243, 0.75)\">2</th><td class=\"tdhistory531308\">Rubin</td><td class=\"tdhistory531308\">Lowe</td><td class=\"tdhistory531308\">Return Policy Inquiry</td><td class=\"tdhistory531308\">2018-04-22 18:28:00.000000</td><td class=\"tdhistory531308\"></td></tr><tr><th class=\"tdhistory531308\" style= \"background: rgba(243, 243, 243, 0.75)\">3</th><td class=\"tdhistory531308\">Virgil</td><td class=\"tdhistory531308\">Montoya</td><td class=\"tdhistory531308\">Mem Purchase</td><td class=\"tdhistory531308\">2018-03-28 12:10:00.000000</td><td class=\"tdhistory531308\">Scooped knit slip</td></tr><tr><th class=\"tdhistory531308\" style= \"background: rgba(243, 243, 243, 0.75)\">4</th><td class=\"tdhistory531308\">Kirsten</td><td class=\"tdhistory531308\">Davies</td><td class=\"tdhistory531308\">Neutral Call</td><td class=\"tdhistory531308\">2018-03-13 08:25:00.000000</td><td class=\"tdhistory531308\">Skip it</td></tr><tr><th class=\"tdhistory531308\" style= \"background: rgba(243, 243, 243, 0.75)\">5</th><td class=\"tdhistory531308\">Boyce</td><td class=\"tdhistory531308\">Blackburn</td><td class=\"tdhistory531308\">Neutral Call</td><td class=\"tdhistory531308\">2018-05-01 11:14:00.000000</td><td class=\"tdhistory531308\"></td></tr><tr><th class=\"tdhistory531308\" style= \"background: rgba(243, 243, 243, 0.75)\">6</th><td class=\"tdhistory531308\">Dean</td><td class=\"tdhistory531308\">King</td><td class=\"tdhistory531308\">Purchase</td><td class=\"tdhistory531308\">2018-05-02 22:15:00.000000</td><td class=\"tdhistory531308\">Great basic!</td></tr><tr><th class=\"tdhistory531308\" style= \"background: rgba(243, 243, 243, 0.75)\">7</th><td class=\"tdhistory531308\">Norris</td><td class=\"tdhistory531308\">Daniel</td><td class=\"tdhistory531308\">Return Policy Inquiry</td><td class=\"tdhistory531308\">2018-03-28 00:13:00.000000</td><td class=\"tdhistory531308\">Wide legs but good quality</td></tr><tr><th class=\"tdhistory531308\" style= \"background: rgba(243, 243, 243, 0.75)\">8</th><td class=\"tdhistory531308\">Harriett</td><td class=\"tdhistory531308\">Murillo</td><td class=\"tdhistory531308\">Web Chat</td><td class=\"tdhistory531308\">2018-05-01 09:00:00.000000</td><td class=\"tdhistory531308\">Are you kidding?</td></tr><tr><th class=\"tdhistory531308\" style= \"background: rgba(243, 243, 243, 0.75)\">9</th><td class=\"tdhistory531308\">Gabriela</td><td class=\"tdhistory531308\">Osborn</td><td class=\"tdhistory531308\">Web Chat</td><td class=\"tdhistory531308\">2018-03-20 07:33:00.000000</td><td class=\"tdhistory531308\">Delightful, different, gets dirty asap</td></tr><tr><th class=\"tdhistory531308\" style= \"background: rgba(243, 243, 243, 0.75)\">10</th><td class=\"tdhistory531308\">Velma</td><td class=\"tdhistory531308\">Gill</td><td class=\"tdhistory531308\">Mem Purchase</td><td class=\"tdhistory531308\">2018-04-24 02:18:00.000000</td><td class=\"tdhistory531308\"></td></tr></tbody></table></div>"
      ]
     },
     "execution_count": 10,
     "metadata": {
      "application/vnd.teradata.resultset": "{\"resultSetID\":\"/home/jovyan/JupyterLabRoot/Teradata/Resultsets/2025.05.29_12.51.26.844_UTC\",\"historyID\":1849,\"chunkID\":\"00001\",\"sessionid\":\"\",\"portnum\":\"\",\"dockermode\":\"docker\",\"totalRowCount\":10,\"chunkCount\":0,\"rowLimit\":0,\"columnMetadata\":[{\"columnName\":\"F_NAME\",\"columnTypeName\":\"VARCHAR\",\"length\":30,\"scale\":30},{\"columnNumber\":1,\"columnName\":\"L_NAME\",\"columnTypeName\":\"VARCHAR\",\"length\":30,\"scale\":30},{\"columnNumber\":2,\"columnName\":\"EVENT\",\"columnTypeName\":\"VARCHAR\",\"length\":50,\"scale\":50},{\"columnNumber\":3,\"columnName\":\"DATESTAMP\",\"columnTypeName\":\"TIMESTAMP\",\"length\":6,\"scale\":6},{\"columnNumber\":4,\"columnName\":\"comment_summary\",\"columnTypeName\":\"VARCHAR\",\"length\":2000,\"scale\":2000}]}"
     },
     "output_type": "execute_result"
    }
   ],
   "source": [
    "SELECT TOP 10\n",
    "    l.F_Name,\n",
    "    l.L_Name,\n",
    "    gc.event,\n",
    "    gc.datestamp,\n",
    "    az.comment_summary\n",
    "    \n",
    "FROM local_dimension_V l -- Dimension Table in Local\n",
    "\n",
    "JOIN demo_ofs.retail_compnew gc -- Customer Events in VCL\n",
    "    ON gc.customer_id = l.customer_id\n",
    "    \n",
    "JOIN azure_unity_catalog.retail_schema.customer_comments az -- Azure Unity Customer Comments\n",
    "    ON gc.customer_id = az.customer_id"
   ]
  },
  {
   "cell_type": "markdown",
   "id": "involved-premises",
   "metadata": {},
   "source": [
    "<hr>\n",
    "\n",
    "<p style = 'font-size:24px;font-family:Arial;color:#00233C'><b>Demo 4.  Originate Queries on Any System on the Query Fabric</b></p>\n",
    "\n",
    "<p style = 'font-size:16px;font-family:Arial;color:#00233C'>Vantage offers complete control over workload placement across the Query Fabric enabling initiation of workload and data operations using simple commands.  Execute the same query as above, but connect via the local VantageCloud system, and initiate the query remotely.</p>\n",
    "\n",
    "\n",
    "<table>\n",
    "    <tr>\n",
    "        <td style = 'vertical-align:top' width = '30%'>\n",
    "            <b style = 'font-size:16px;font-family:Arial;color:#00233C'>Steps</b>\n",
    "            <ol style = 'font-size:16px;font-family:Arial;color:#00233C'>\n",
    "                <li>Connect to Local VantageCloud system</li>\n",
    "                <br>\n",
    "                <li>Initiate a query in Remote VantageCloud Lake</li>\n",
    "                <br>\n",
    "                <li>Remote system joins local data with data in Unity or other <b>Open Table Format</b></li>\n",
    "                <br>\n",
    "                <li>Results returned to Local VantageCloud</li>\n",
    "            </ol>\n",
    "        </td>\n",
    "        <td><img src = 'images/new_hybrid_data_2.png' width = '800'></td>\n",
    "    </tr>\n",
    "    </table>"
   ]
  },
  {
   "cell_type": "code",
   "execution_count": 11,
   "id": "minor-board",
   "metadata": {
    "tags": []
   },
   "outputs": [
    {
     "name": "stdout",
     "output_type": "stream",
     "text": [
      "Connected: 'VC_Local' connection activated for user 'data_engineer'\n"
     ]
    }
   ],
   "source": [
    "%connect VC_Local"
   ]
  },
  {
   "cell_type": "code",
   "execution_count": 12,
   "id": "frequent-parking",
   "metadata": {
    "tags": []
   },
   "outputs": [
    {
     "data": {
      "application/vnd.teradata.resultset": "\"F_NAME\",\"L_NAME\",\"EVENT\",\"DATESTAMP\",\"comment_summary\"\n\"Jeromy\",\"Hughes\",\"Purchase\",\"2018-04-07 10:12:00.000000\",\" i normally wear medium or small tops. fit runs a little large\"\n\"Boyce\",\"Blackburn\",\"Neutral Call\",\"2018-05-01 11:14:00.000000\",\"\"\n\"Kirsten\",\"Davies\",\"Neutral Call\",\"2018-03-13 08:25:00.000000\",\"Skip it\"\n\"Dean\",\"King\",\"Product Browsing\",\"2018-04-30 04:30:00.000000\",\"Great basic!\"\n\"Aubrey\",\"Bryant\",\"Neutral Call\",\"2018-05-08 23:24:00.000000\",\"Cute romper\"\n\"Millard\",\"Ho\",\"Purchase\",\"2018-04-30 21:53:00.000000\",\" although comfortable\"\n\"Virgil\",\"Montoya\",\"Mem Purchase\",\"2018-03-28 12:10:00.000000\",\"Scooped knit slip\"\n\"Joann\",\"Nicholson\",\"Service Inquiry\",\"2018-04-01 15:35:00.000000\",\" so i imagine i will wear a nude tank top underneath.\"\"\"\n\"Ian\",\"Stout\",\"Neutral Call\",\"2018-03-23 06:44:00.000000\",\"\"\n\"Deann\",\"Sellers\",\"Neutral Call\",\"2018-05-12 18:48:00.000000\",\"Super sexy\"",
      "text/html": [
       "<div class = \"td-resultset-table-div\" style = \"max-height: 100%; overflow-y: auto\">\n",
       "      <table class=\"tdhistory595859\"><style>\n",
       "      table.tdhistory595859 { display: block !important; min-height: 294px !important; overflow: auto !important; height: 294px !important; width: 100% !important; border: 1px solid rgb(207, 207, 207) !important; border-collapse: collapse !important; ; color: var(--jp-ui-font-color1) !important; }\n",
       "      th.tdhistory595859 { border: 1px solid rgb(198,198,198) !important; border-collapse: collapse !important; ; padding: 2px 5px !important; ; font-size: 13px !important; ; text-align: center !important; white-space: normal !important; color: var(--jp-ui-font-color1) !important; }\n",
       "      th.tdhistory595859:last-child { text-align: left !important; }\n",
       "      tbody.tdhistory595859 tr:nth-child(even) { background: rgba(243, 243, 243, 0.75) !important; }\n",
       "      tbody.tdhistory595859 tr:nth-child(odd) { background: var(--jp-ui-inverse-font-color1) !important; }\n",
       "      td.tdhistory595859 { border: 1px solid rgb(207, 207, 207) !important; border-collapse: collapse !important; ; padding: 2px 5px !important; ; font-size: 13px !important; ; text-align: left !important;          white-space: nowrap !important; overflow:hidden !important; text-overflow:ellipsis !important;; }\n",
       "    </style><thead><tr style= \"background: rgba(243, 243, 243, 0.75)\"><th class=\"tdhistory595859\"></th><th class=\"tdhistory595859\">F_NAME</th><th class=\"tdhistory595859\">L_NAME</th><th class=\"tdhistory595859\">EVENT</th><th class=\"tdhistory595859\">DATESTAMP</th><th class=\"tdhistory595859\">comment_summary</th></tr></thead><tbody class=\"tdhistory595859 resultset-body\"><tr><th class=\"tdhistory595859\" style= \"background: rgba(243, 243, 243, 0.75)\">1</th><td class=\"tdhistory595859\">Jeromy</td><td class=\"tdhistory595859\">Hughes</td><td class=\"tdhistory595859\">Purchase</td><td class=\"tdhistory595859\">2018-04-07 10:12:00.000000</td><td class=\"tdhistory595859\"> i normally wear medium or small tops. fit runs a little large</td></tr><tr><th class=\"tdhistory595859\" style= \"background: rgba(243, 243, 243, 0.75)\">2</th><td class=\"tdhistory595859\">Boyce</td><td class=\"tdhistory595859\">Blackburn</td><td class=\"tdhistory595859\">Neutral Call</td><td class=\"tdhistory595859\">2018-05-01 11:14:00.000000</td><td class=\"tdhistory595859\"></td></tr><tr><th class=\"tdhistory595859\" style= \"background: rgba(243, 243, 243, 0.75)\">3</th><td class=\"tdhistory595859\">Kirsten</td><td class=\"tdhistory595859\">Davies</td><td class=\"tdhistory595859\">Neutral Call</td><td class=\"tdhistory595859\">2018-03-13 08:25:00.000000</td><td class=\"tdhistory595859\">Skip it</td></tr><tr><th class=\"tdhistory595859\" style= \"background: rgba(243, 243, 243, 0.75)\">4</th><td class=\"tdhistory595859\">Dean</td><td class=\"tdhistory595859\">King</td><td class=\"tdhistory595859\">Product Browsing</td><td class=\"tdhistory595859\">2018-04-30 04:30:00.000000</td><td class=\"tdhistory595859\">Great basic!</td></tr><tr><th class=\"tdhistory595859\" style= \"background: rgba(243, 243, 243, 0.75)\">5</th><td class=\"tdhistory595859\">Aubrey</td><td class=\"tdhistory595859\">Bryant</td><td class=\"tdhistory595859\">Neutral Call</td><td class=\"tdhistory595859\">2018-05-08 23:24:00.000000</td><td class=\"tdhistory595859\">Cute romper</td></tr><tr><th class=\"tdhistory595859\" style= \"background: rgba(243, 243, 243, 0.75)\">6</th><td class=\"tdhistory595859\">Millard</td><td class=\"tdhistory595859\">Ho</td><td class=\"tdhistory595859\">Purchase</td><td class=\"tdhistory595859\">2018-04-30 21:53:00.000000</td><td class=\"tdhistory595859\"> although comfortable</td></tr><tr><th class=\"tdhistory595859\" style= \"background: rgba(243, 243, 243, 0.75)\">7</th><td class=\"tdhistory595859\">Virgil</td><td class=\"tdhistory595859\">Montoya</td><td class=\"tdhistory595859\">Mem Purchase</td><td class=\"tdhistory595859\">2018-03-28 12:10:00.000000</td><td class=\"tdhistory595859\">Scooped knit slip</td></tr><tr><th class=\"tdhistory595859\" style= \"background: rgba(243, 243, 243, 0.75)\">8</th><td class=\"tdhistory595859\">Joann</td><td class=\"tdhistory595859\">Nicholson</td><td class=\"tdhistory595859\">Service Inquiry</td><td class=\"tdhistory595859\">2018-04-01 15:35:00.000000</td><td class=\"tdhistory595859\"> so i imagine i will wear a nude tank top underneath.\"</td></tr><tr><th class=\"tdhistory595859\" style= \"background: rgba(243, 243, 243, 0.75)\">9</th><td class=\"tdhistory595859\">Ian</td><td class=\"tdhistory595859\">Stout</td><td class=\"tdhistory595859\">Neutral Call</td><td class=\"tdhistory595859\">2018-03-23 06:44:00.000000</td><td class=\"tdhistory595859\"></td></tr><tr><th class=\"tdhistory595859\" style= \"background: rgba(243, 243, 243, 0.75)\">10</th><td class=\"tdhistory595859\">Deann</td><td class=\"tdhistory595859\">Sellers</td><td class=\"tdhistory595859\">Neutral Call</td><td class=\"tdhistory595859\">2018-05-12 18:48:00.000000</td><td class=\"tdhistory595859\">Super sexy</td></tr></tbody></table></div>"
      ]
     },
     "execution_count": 12,
     "metadata": {
      "application/vnd.teradata.resultset": "{\"resultSetID\":\"/home/jovyan/JupyterLabRoot/Teradata/Resultsets/2025.05.29_12.52.51.373_UTC\",\"historyID\":1850,\"chunkID\":\"00001\",\"sessionid\":\"\",\"portnum\":\"\",\"dockermode\":\"docker\",\"totalRowCount\":10,\"chunkCount\":0,\"rowLimit\":0,\"columnMetadata\":[{\"columnName\":\"F_NAME\",\"columnTypeName\":\"VARCHAR\",\"length\":30,\"scale\":30},{\"columnNumber\":1,\"columnName\":\"L_NAME\",\"columnTypeName\":\"VARCHAR\",\"length\":30,\"scale\":30},{\"columnNumber\":2,\"columnName\":\"EVENT\",\"columnTypeName\":\"VARCHAR\",\"length\":50,\"scale\":50},{\"columnNumber\":3,\"columnName\":\"DATESTAMP\",\"columnTypeName\":\"TIMESTAMP\",\"length\":6,\"scale\":6},{\"columnNumber\":4,\"columnName\":\"comment_summary\",\"columnTypeName\":\"VARCHAR\",\"length\":2000,\"scale\":2000}]}"
     },
     "output_type": "execute_result"
    }
   ],
   "source": [
    "SELECT * \n",
    "\n",
    "FROM FOREIGN TABLE (\n",
    "    SELECT TOP 10 l.F_Name,\n",
    "            l.L_Name,\n",
    "            gc.event,\n",
    "            gc.datestamp,\n",
    "            az.comment_summary\n",
    "    FROM local_dimension_V l -- Dimension Table in VCE\n",
    "\n",
    "    JOIN demo_ofs.retail_compnew gc -- Customer Events in VCL\n",
    "        ON gc.customer_id = l.customer_id\n",
    "    \n",
    "    JOIN azure_unity_catalog.retail_schema.customer_comments az -- Azure Unity Customer Comments\n",
    "        ON gc.customer_id = az.customer_id\n",
    "    \n",
    "    )@FS_Lake --Execute SQL in Lake\n",
    "d;"
   ]
  },
  {
   "cell_type": "markdown",
   "id": "tracked-chapel",
   "metadata": {},
   "source": [
    "<hr>\n",
    "<p style = 'font-size:28px;font-family:Arial;color:#00233C'><b>Conclusion</b></p>\n",
    "\n",
    "<p style = 'font-size:16px;font-family:Arial;color:#00233C'>The preceding demonstration reviewed four common use cases highlighting the  Hybrid and Multi-Cloud capabilities of Teradata Vantage.</p>\n",
    "<ol style = 'font-size:16px;font-family:Arial;color:#00233C'>\n",
    "    <li>Workload orchestration across distributed environments to optimize processing, performance, and cost</li>\n",
    "    <li>Minimal data egress and in-region utilization of Object Storage for performance and cost savings</li>\n",
    "    <li>Join and combine data between environments for maximum data reuse with automatic optimization</li>\n",
    "    <li>Initiate Workloads <b>from</b> any system <b>to</b> any system across the fabric</li>\n",
    "</ol>\n",
    "   "
   ]
  },
  {
   "cell_type": "markdown",
   "id": "c0d27569-6265-4070-a15b-8dc57a6631c4",
   "metadata": {},
   "source": [
    "<hr>\n",
    "<p style = 'font-size:28px;font-family:Arial;color:#00233C'><b>Additional queries</b></p>\n",
    "\n",
    "<p style = 'font-size:16px;font-family:Arial;color:#00233C'>Additional collateral - complex join condition, DATALAKE syntax, etc.</p>"
   ]
  },
  {
   "cell_type": "code",
   "execution_count": 13,
   "id": "a5bb83a8-4a0d-4eda-acf6-98c7ac8887b1",
   "metadata": {
    "tags": []
   },
   "outputs": [
    {
     "name": "stdout",
     "output_type": "stream",
     "text": [
      "Connected: 'VC_Lake' connection activated for user 'data_engineer'\n"
     ]
    }
   ],
   "source": [
    "%connect VC_Lake"
   ]
  },
  {
   "cell_type": "code",
   "execution_count": 14,
   "id": "693616e1-dd27-4d66-8afd-e215ee084e50",
   "metadata": {
    "tags": []
   },
   "outputs": [
    {
     "data": {
      "application/vnd.teradata.resultset": "\"start_time\",\"customer_identifier\",\"firstname\",\"lastname\",\"fraud_amount\",\"path\",\"interaction_session_number\"\n\"2016-02-16 09:08:34.000000-07:00\",\"332124954upbhkhh348550935\",\"Megan\",\"Briggs\",\"432958.83\",\"[BROWSE, BROWSE, BROWSE, BROWSE, BROWSE, BROWSE, BROWSE, BROWSE, BROWSE, BROWSE, BROWSE, BROWSE, BROWSE, BROWSE, BROWSE, BROWSE, BROWSE, BROWSE, STARTS_APPLICATION, STARTS_APPLICATION, STARTS_APPLICATION, STARTS_APPLICATION, STARTS_APPLICATION, STARTS_APPLICATION, BROWSE, BROWSE, BROWSE, BROWSE, BROWSE, BROWSE, BROWSE, BROWSE, BROWSE, BROWSE, BROWSE, BROWSE]\",\"7457497\"\n\"2016-02-22 15:02:03.000000-07:00\",\"228714836dfdzuow919946555\",\"Phoebe\",\"Jenkins\",\"127564.33\",\"[COMPARE, COMPARE, COMPARE, COMPARE, COMPARE, COMPARE, COMPARE, COMPARE, COMPARE, COMPARE, COMPARE, COMPARE, COMPARE, COMPARE, COMPARE, COMPARE, COMPARE, COMPARE]\",\"3639591\"\n\"2016-02-18 13:33:36.000000-07:00\",\"673548669nvuurrm432443654\",\"Danielle\",\"Ahmed\",\"2.08105156e+06\",\"[OLB, OLB, OLB, OLB, OLB, OLB, STARTS_APPLICATION, STARTS_APPLICATION, STARTS_APPLICATION, STARTS_APPLICATION, STARTS_APPLICATION, STARTS_APPLICATION, BROWSE, BROWSE, BROWSE, BROWSE, BROWSE, BROWSE, BROWSE, BROWSE, BROWSE, BROWSE, BROWSE, BROWSE, OLB, OLB, OLB, OLB, OLB, OLB, OLB, OLB, OLB, OLB, OLB, OLB, BROWSE, BROWSE, BROWSE, BROWSE, BROWSE, BROWSE, OLB, OLB, OLB, OLB, OLB, OLB, BROWSE, BROWSE, BROWSE, BROWSE, BROWSE, BROWSE, BROWSE, BROWSE, BROWSE, BROWSE, BROWSE, BROWSE, OLB, OLB, OLB, OLB, OLB, OLB, BROWSE, BROWSE, BROWSE, BROWSE, BROWSE, BROWSE, BROWSE, BROWSE, BROWSE, BROWSE, BROWSE, BROWSE, OLB, OLB, OLB, OLB, OLB, OLB, STARTS_APPLICATION, STARTS_APPLICATION, STARTS_APPLICATION, STARTS_APPLICATION, STARTS_APPLICATION, STARTS_APPLICATION, BROWSE, BROWSE, BROWSE, BROWSE, BROWSE, BROWSE, BROWSE, BROWSE, BROWSE, BROWSE, BROWSE, BROWSE, BROWSE, BROWSE, BROWSE, BROWSE, BROWSE, BROWSE, BROWSE, BROWSE, BROWSE, BROWSE, BROWSE, BROWSE, BROWSE, BROWSE, BROWSE, BROWSE, BROWSE, BROWSE, BROWSE, BROWSE, BROWSE, BROWSE, BROWSE, BROWSE, BROWSE, BROWSE, BROWSE, BROWSE, BROWSE, BROWSE, STARTS_APPLICATION, STARTS_APPLICATION, STARTS_APPLICATION, STARTS_APPLICATION, STARTS_APPLICATION, STARTS_APPLICATION, MORTGAGE_CALC, MORTGAGE_CALC, MORTGAGE_CALC, MORTGAGE_CALC, MORTGAGE_CALC, MORTGAGE_CALC, BROWSE, BROWSE, BROWSE, BROWSE, BROWSE, BROWSE, OLB, OLB, OLB, OLB, OLB, OLB, OLB, OLB, OLB, OLB, OLB, OLB, OLB, OLB, OLB, OLB, OLB, OLB, STARTS_APPLICATION, STARTS_APPLICATION, STARTS_APPLICATION, STARTS_APPLICATION, STARTS_APPLICATION, STARTS_APPLICATION, OLB, OLB, OLB, OLB, OLB, OLB, STARTS_APPLICATION, STARTS_APPLICATION, STARTS_APPLICATION, STARTS_APPLICATION, STARTS_APPLICATION, STARTS_APPLICATION, COMPARE, COMPARE, COMPARE, COMPARE, COMPARE, COMPARE, COMPLETE_APPLICATION, COMPLETE_APPLICATION, COMPLETE_APPLICATION, COMPLETE_APPLICATION, COMPLETE_APPLICATION, COMPLETE_APPLICATION, ACCOUNT_BOOKED_ONLINE, ACCOUNT_BOOKED_ONLINE, ACCOUNT_BOOKED_ONLINE, ACCOUNT_BOOKED_ONLINE, ACCOUNT_BOOKED_ONLINE, ACCOUNT_BOOKED_ONLINE, COMPLETE_APPLICATION, COMPLETE_APPLICATION, COMPLETE_APPLICATION, COMPLETE_APPLICATION, COMPLETE_APPLICATION, COMPLETE_APPLICATION, FEE_REVERSAL, FEE_REVERSAL, FEE_REVERSAL, FEE_REVERSAL, FEE_REVERSAL, FEE_REVERSAL, LINK_EXTERNAL_ACCOUNT, LINK_EXTERNAL_ACCOUNT, LINK_EXTERNAL_ACCOUNT, LINK_EXTERNAL_ACCOUNT, LINK_EXTERNAL_ACCOUNT, LINK_EXTERNAL_ACCOUNT, BALANCE_TRANSFER, BALANCE_TRANSFER, BALANCE_TRANSFER, BALANCE_TRANSFER, BALANCE_TRANSFER, BALANCE_TRANSFER, ACCOUNT_CLOSED, ACCOUNT_CLOSED, ACCOUNT_CLOSED, ACCOUNT_CLOSED, ACCOUNT_CLOSED, ACCOUNT_CLOSED]\",\"2160216\"\n\"2016-03-06 16:32:33.000000-07:00\",\"315616825hhozhjg829286508\",\"Benjamin\",\"Godfrey\",\"829012.31\",\"[BROWSE, BROWSE, BROWSE, BROWSE, BROWSE, BROWSE, STARTS_APPLICATION, STARTS_APPLICATION, STARTS_APPLICATION, STARTS_APPLICATION, STARTS_APPLICATION, STARTS_APPLICATION, COMPARE, COMPARE, COMPARE, COMPARE, COMPARE, COMPARE, STARTS_APPLICATION, STARTS_APPLICATION, STARTS_APPLICATION, STARTS_APPLICATION, STARTS_APPLICATION, STARTS_APPLICATION, COMPLETE_APPLICATION, COMPLETE_APPLICATION, COMPLETE_APPLICATION, COMPLETE_APPLICATION, COMPLETE_APPLICATION, COMPLETE_APPLICATION, ACCOUNT_BOOKED_ONLINE, ACCOUNT_BOOKED_ONLINE, ACCOUNT_BOOKED_ONLINE, ACCOUNT_BOOKED_ONLINE, ACCOUNT_BOOKED_ONLINE, ACCOUNT_BOOKED_ONLINE, COMPLETE_APPLICATION, COMPLETE_APPLICATION, COMPLETE_APPLICATION, COMPLETE_APPLICATION, COMPLETE_APPLICATION, COMPLETE_APPLICATION]\",\"2245141\"\n\"2016-02-23 13:53:20.000000-07:00\",\"723346324bqtywyv557899717\",\"Jacob\",\"Wilkins\",\"2.29933046e+06\",\"[STARTS_APPLICATION, STARTS_APPLICATION, STARTS_APPLICATION, STARTS_APPLICATION, STARTS_APPLICATION, STARTS_APPLICATION, BROWSE, BROWSE, BROWSE, BROWSE, BROWSE, BROWSE]\",\"3239057\"\n\"2016-02-13 11:39:23.000000-07:00\",\"550877512qiultoa660406456\",\"Amelie\",\"Wong\",\"1e+07\",\"[BROWSE, BROWSE, BROWSE, BROWSE, BROWSE, BROWSE, COMPARE, COMPARE, COMPARE, COMPARE, COMPARE, COMPARE, STARTS_APPLICATION, STARTS_APPLICATION, STARTS_APPLICATION, STARTS_APPLICATION, STARTS_APPLICATION, STARTS_APPLICATION]\",\"5335956\"\n\"2016-02-22 16:30:38.000000-07:00\",\"228714836dfdzuow919946555\",\"Phoebe\",\"Jenkins\",\"127564.33\",\"[COMPARE, COMPARE, COMPARE, COMPARE, COMPARE, COMPARE, COMPARE, COMPARE, COMPARE, COMPARE, COMPARE, COMPARE, COMPARE, COMPARE, COMPARE, COMPARE, COMPARE, COMPARE]\",\"3688318\"\n\"2016-02-21 18:24:51.000000-07:00\",\"228714836dfdzuow919946555\",\"Phoebe\",\"Jenkins\",\"127564.33\",\"[BROWSE, BROWSE, BROWSE, BROWSE, BROWSE, BROWSE, STARTS_APPLICATION, STARTS_APPLICATION, STARTS_APPLICATION, STARTS_APPLICATION, STARTS_APPLICATION, STARTS_APPLICATION]\",\"3363365\"\n\"2016-02-17 17:58:42.000000-07:00\",\"673548669nvuurrm432443654\",\"Danielle\",\"Ahmed\",\"2.08105156e+06\",\"[BROWSE, BROWSE, BROWSE, BROWSE, BROWSE, BROWSE, OLB, OLB, OLB, OLB, OLB, OLB, OLB, OLB, OLB, OLB, OLB, OLB]\",\"1917281\"\n\"2016-02-07 14:47:45.000000-07:00\",\"554873258gwonmzq747017981\",\"Grace\",\"Forster\",\"145035.4\",\"[STARTS_APPLICATION, STARTS_APPLICATION, STARTS_APPLICATION, STARTS_APPLICATION, STARTS_APPLICATION, STARTS_APPLICATION]\",\"3267888\"",
      "text/html": [
       "<div class = \"td-resultset-table-div\" style = \"max-height: 100%; overflow-y: auto\">\n",
       "      <table class=\"tdhistory400970\"><style>\n",
       "      table.tdhistory400970 { display: block !important; min-height: 294px !important; overflow: auto !important; height: 294px !important; width: 100% !important; border: 1px solid rgb(207, 207, 207) !important; border-collapse: collapse !important; ; color: var(--jp-ui-font-color1) !important; }\n",
       "      th.tdhistory400970 { border: 1px solid rgb(198,198,198) !important; border-collapse: collapse !important; ; padding: 2px 5px !important; ; font-size: 13px !important; ; text-align: center !important; white-space: normal !important; color: var(--jp-ui-font-color1) !important; }\n",
       "      th.tdhistory400970:last-child { text-align: left !important; }\n",
       "      tbody.tdhistory400970 tr:nth-child(even) { background: rgba(243, 243, 243, 0.75) !important; }\n",
       "      tbody.tdhistory400970 tr:nth-child(odd) { background: var(--jp-ui-inverse-font-color1) !important; }\n",
       "      td.tdhistory400970 { border: 1px solid rgb(207, 207, 207) !important; border-collapse: collapse !important; ; padding: 2px 5px !important; ; font-size: 13px !important; ; text-align: left !important;          white-space: nowrap !important; overflow:hidden !important; text-overflow:ellipsis !important;; }\n",
       "    </style><thead><tr style= \"background: rgba(243, 243, 243, 0.75)\"><th class=\"tdhistory400970\"></th><th class=\"tdhistory400970\">start_time</th><th class=\"tdhistory400970\">customer_identifier</th><th class=\"tdhistory400970\">firstname</th><th class=\"tdhistory400970\">lastname</th><th class=\"tdhistory400970\">fraud_amount</th><th class=\"tdhistory400970\">path</th><th class=\"tdhistory400970\">interaction_session_number</th></tr></thead><tbody class=\"tdhistory400970 resultset-body\"><tr><th class=\"tdhistory400970\" style= \"background: rgba(243, 243, 243, 0.75)\">1</th><td class=\"tdhistory400970\">2016-02-16 09:08:34.000000-07:00</td><td class=\"tdhistory400970\">332124954upbhkhh348550935</td><td class=\"tdhistory400970\">Megan</td><td class=\"tdhistory400970\">Briggs</td><td class=\"tdhistory400970\">432958.83</td><td class=\"tdhistory400970\">[BROWSE, BROWSE, BROWSE, BROWSE, BROWSE, BROWSE, BROWSE, BROWSE, BROWSE, BROWSE, BROWSE, BROWSE, BROWSE, BROWSE, BROWSE, BROWSE, BROWSE, BROWSE, STARTS_APPLICATION, STARTS_APPLICATION, STARTS_APPLICATION, STARTS_APPLICATION, STARTS_APPLICATION, STARTS_APPLICATION, BROWSE, BROWSE, BROWSE, BROWSE, BROWSE, BROWSE, BROWSE, BROWSE, BROWSE, BROWSE, BROWSE, BROWSE]</td><td class=\"tdhistory400970\">7457497</td></tr><tr><th class=\"tdhistory400970\" style= \"background: rgba(243, 243, 243, 0.75)\">2</th><td class=\"tdhistory400970\">2016-02-22 15:02:03.000000-07:00</td><td class=\"tdhistory400970\">228714836dfdzuow919946555</td><td class=\"tdhistory400970\">Phoebe</td><td class=\"tdhistory400970\">Jenkins</td><td class=\"tdhistory400970\">127564.33</td><td class=\"tdhistory400970\">[COMPARE, COMPARE, COMPARE, COMPARE, COMPARE, COMPARE, COMPARE, COMPARE, COMPARE, COMPARE, COMPARE, COMPARE, COMPARE, COMPARE, COMPARE, COMPARE, COMPARE, COMPARE]</td><td class=\"tdhistory400970\">3639591</td></tr><tr><th class=\"tdhistory400970\" style= \"background: rgba(243, 243, 243, 0.75)\">3</th><td class=\"tdhistory400970\">2016-02-18 13:33:36.000000-07:00</td><td class=\"tdhistory400970\">673548669nvuurrm432443654</td><td class=\"tdhistory400970\">Danielle</td><td class=\"tdhistory400970\">Ahmed</td><td class=\"tdhistory400970\">2.08105156e+06</td><td class=\"tdhistory400970\">[OLB, OLB, OLB, OLB, OLB, OLB, STARTS_APPLICATION, STARTS_APPLICATION, STARTS_APPLICATION, STARTS_APPLICATION, STARTS_APPLICATION, STARTS_APPLICATION, BROWSE, BROWSE, BROWSE, BROWSE, BROWSE, BROWSE, BROWSE, BROWSE, BROWSE, BROWSE, BROWSE, BROWSE, OLB, OLB, OLB, OLB, OLB, OLB, OLB, OLB, OLB, OLB, OLB, OLB, BROWSE, BROWSE, BROWSE, BROWSE, BROWSE, BROWSE, OLB, OLB, OLB, OLB, OLB, OLB, BROWSE, BROWSE, BROWSE, BROWSE, BROWSE, BROWSE, BROWSE, BROWSE, BROWSE, BROWSE, BROWSE, BROWSE, OLB, OLB, OLB, OLB, OLB, OLB, BROWSE, BROWSE, BROWSE, BROWSE, BROWSE, BROWSE, BROWSE, BROWSE, BROWSE, BROWSE, BROWSE, BROWSE, OLB, OLB, OLB, OLB, OLB, OLB, STARTS_APPLICATION, STARTS_APPLICATION, STARTS_APPLICATION, STARTS_APPLICATION, STARTS_APPLICATION, STARTS_APPLICATION, BROWSE, BROWSE, BROWSE, BROWSE, BROWSE, BROWSE, BROWSE, BROWSE, BROWSE, BROWSE, BROWSE, BROWSE, BROWSE, BROWSE, BROWSE, BROWSE, BROWSE, BROWSE, BROWSE, BROWSE, BROWSE, BROWSE, BROWSE, BROWSE, BROWSE, BROWSE, BROWSE, BROWSE, BROWSE, BROWSE, BROWSE, BROWSE, BROWSE, BROWSE, BROWSE, BROWSE, BROWSE, BROWSE, BROWSE, BROWSE, BROWSE, BROWSE, STARTS_APPLICATION, STARTS_APPLICATION, STARTS_APPLICATION, STARTS_APPLICATION, STARTS_APPLICATION, STARTS_APPLICATION, MORTGAGE_CALC, MORTGAGE_CALC, MORTGAGE_CALC, MORTGAGE_CALC, MORTGAGE_CALC, MORTGAGE_CALC, BROWSE, BROWSE, BROWSE, BROWSE, BROWSE, BROWSE, OLB, OLB, OLB, OLB, OLB, OLB, OLB, OLB, OLB, OLB, OLB, OLB, OLB, OLB, OLB, OLB, OLB, OLB, STARTS_APPLICATION, STARTS_APPLICATION, STARTS_APPLICATION, STARTS_APPLICATION, STARTS_APPLICATION, STARTS_APPLICATION, OLB, OLB, OLB, OLB, OLB, OLB, STARTS_APPLICATION, STARTS_APPLICATION, STARTS_APPLICATION, STARTS_APPLICATION, STARTS_APPLICATION, STARTS_APPLICATION, COMPARE, COMPARE, COMPARE, COMPARE, COMPARE, COMPARE, COMPLETE_APPLICATION, COMPLETE_APPLICATION, COMPLETE_APPLICATION, COMPLETE_APPLICATION, COMPLETE_APPLICATION, COMPLETE_APPLICATION, ACCOUNT_BOOKED_ONLINE, ACCOUNT_BOOKED_ONLINE, ACCOUNT_BOOKED_ONLINE, ACCOUNT_BOOKED_ONLINE, ACCOUNT_BOOKED_ONLINE, ACCOUNT_BOOKED_ONLINE, COMPLETE_APPLICATION, COMPLETE_APPLICATION, COMPLETE_APPLICATION, COMPLETE_APPLICATION, COMPLETE_APPLICATION, COMPLETE_APPLICATION, FEE_REVERSAL, FEE_REVERSAL, FEE_REVERSAL, FEE_REVERSAL, FEE_REVERSAL, FEE_REVERSAL, LINK_EXTERNAL_ACCOUNT, LINK_EXTERNAL_ACCOUNT, LINK_EXTERNAL_ACCOUNT, LINK_EXTERNAL_ACCOUNT, LINK_EXTERNAL_ACCOUNT, LINK_EXTERNAL_ACCOUNT, BALANCE_TRANSFER, BALANCE_TRANSFER, BALANCE_TRANSFER, BALANCE_TRANSFER, BALANCE_TRANSFER, BALANCE_TRANSFER, ACCOUNT_CLOSED, ACCOUNT_CLOSED, ACCOUNT_CLOSED, ACCOUNT_CLOSED, ACCOUNT_CLOSED, ACCOUNT_CLOSED]</td><td class=\"tdhistory400970\">2160216</td></tr><tr><th class=\"tdhistory400970\" style= \"background: rgba(243, 243, 243, 0.75)\">4</th><td class=\"tdhistory400970\">2016-03-06 16:32:33.000000-07:00</td><td class=\"tdhistory400970\">315616825hhozhjg829286508</td><td class=\"tdhistory400970\">Benjamin</td><td class=\"tdhistory400970\">Godfrey</td><td class=\"tdhistory400970\">829012.31</td><td class=\"tdhistory400970\">[BROWSE, BROWSE, BROWSE, BROWSE, BROWSE, BROWSE, STARTS_APPLICATION, STARTS_APPLICATION, STARTS_APPLICATION, STARTS_APPLICATION, STARTS_APPLICATION, STARTS_APPLICATION, COMPARE, COMPARE, COMPARE, COMPARE, COMPARE, COMPARE, STARTS_APPLICATION, STARTS_APPLICATION, STARTS_APPLICATION, STARTS_APPLICATION, STARTS_APPLICATION, STARTS_APPLICATION, COMPLETE_APPLICATION, COMPLETE_APPLICATION, COMPLETE_APPLICATION, COMPLETE_APPLICATION, COMPLETE_APPLICATION, COMPLETE_APPLICATION, ACCOUNT_BOOKED_ONLINE, ACCOUNT_BOOKED_ONLINE, ACCOUNT_BOOKED_ONLINE, ACCOUNT_BOOKED_ONLINE, ACCOUNT_BOOKED_ONLINE, ACCOUNT_BOOKED_ONLINE, COMPLETE_APPLICATION, COMPLETE_APPLICATION, COMPLETE_APPLICATION, COMPLETE_APPLICATION, COMPLETE_APPLICATION, COMPLETE_APPLICATION]</td><td class=\"tdhistory400970\">2245141</td></tr><tr><th class=\"tdhistory400970\" style= \"background: rgba(243, 243, 243, 0.75)\">5</th><td class=\"tdhistory400970\">2016-02-23 13:53:20.000000-07:00</td><td class=\"tdhistory400970\">723346324bqtywyv557899717</td><td class=\"tdhistory400970\">Jacob</td><td class=\"tdhistory400970\">Wilkins</td><td class=\"tdhistory400970\">2.29933046e+06</td><td class=\"tdhistory400970\">[STARTS_APPLICATION, STARTS_APPLICATION, STARTS_APPLICATION, STARTS_APPLICATION, STARTS_APPLICATION, STARTS_APPLICATION, BROWSE, BROWSE, BROWSE, BROWSE, BROWSE, BROWSE]</td><td class=\"tdhistory400970\">3239057</td></tr><tr><th class=\"tdhistory400970\" style= \"background: rgba(243, 243, 243, 0.75)\">6</th><td class=\"tdhistory400970\">2016-02-13 11:39:23.000000-07:00</td><td class=\"tdhistory400970\">550877512qiultoa660406456</td><td class=\"tdhistory400970\">Amelie</td><td class=\"tdhistory400970\">Wong</td><td class=\"tdhistory400970\">1e+07</td><td class=\"tdhistory400970\">[BROWSE, BROWSE, BROWSE, BROWSE, BROWSE, BROWSE, COMPARE, COMPARE, COMPARE, COMPARE, COMPARE, COMPARE, STARTS_APPLICATION, STARTS_APPLICATION, STARTS_APPLICATION, STARTS_APPLICATION, STARTS_APPLICATION, STARTS_APPLICATION]</td><td class=\"tdhistory400970\">5335956</td></tr><tr><th class=\"tdhistory400970\" style= \"background: rgba(243, 243, 243, 0.75)\">7</th><td class=\"tdhistory400970\">2016-02-22 16:30:38.000000-07:00</td><td class=\"tdhistory400970\">228714836dfdzuow919946555</td><td class=\"tdhistory400970\">Phoebe</td><td class=\"tdhistory400970\">Jenkins</td><td class=\"tdhistory400970\">127564.33</td><td class=\"tdhistory400970\">[COMPARE, COMPARE, COMPARE, COMPARE, COMPARE, COMPARE, COMPARE, COMPARE, COMPARE, COMPARE, COMPARE, COMPARE, COMPARE, COMPARE, COMPARE, COMPARE, COMPARE, COMPARE]</td><td class=\"tdhistory400970\">3688318</td></tr><tr><th class=\"tdhistory400970\" style= \"background: rgba(243, 243, 243, 0.75)\">8</th><td class=\"tdhistory400970\">2016-02-21 18:24:51.000000-07:00</td><td class=\"tdhistory400970\">228714836dfdzuow919946555</td><td class=\"tdhistory400970\">Phoebe</td><td class=\"tdhistory400970\">Jenkins</td><td class=\"tdhistory400970\">127564.33</td><td class=\"tdhistory400970\">[BROWSE, BROWSE, BROWSE, BROWSE, BROWSE, BROWSE, STARTS_APPLICATION, STARTS_APPLICATION, STARTS_APPLICATION, STARTS_APPLICATION, STARTS_APPLICATION, STARTS_APPLICATION]</td><td class=\"tdhistory400970\">3363365</td></tr><tr><th class=\"tdhistory400970\" style= \"background: rgba(243, 243, 243, 0.75)\">9</th><td class=\"tdhistory400970\">2016-02-17 17:58:42.000000-07:00</td><td class=\"tdhistory400970\">673548669nvuurrm432443654</td><td class=\"tdhistory400970\">Danielle</td><td class=\"tdhistory400970\">Ahmed</td><td class=\"tdhistory400970\">2.08105156e+06</td><td class=\"tdhistory400970\">[BROWSE, BROWSE, BROWSE, BROWSE, BROWSE, BROWSE, OLB, OLB, OLB, OLB, OLB, OLB, OLB, OLB, OLB, OLB, OLB, OLB]</td><td class=\"tdhistory400970\">1917281</td></tr><tr><th class=\"tdhistory400970\" style= \"background: rgba(243, 243, 243, 0.75)\">10</th><td class=\"tdhistory400970\">2016-02-07 14:47:45.000000-07:00</td><td class=\"tdhistory400970\">554873258gwonmzq747017981</td><td class=\"tdhistory400970\">Grace</td><td class=\"tdhistory400970\">Forster</td><td class=\"tdhistory400970\">145035.4</td><td class=\"tdhistory400970\">[STARTS_APPLICATION, STARTS_APPLICATION, STARTS_APPLICATION, STARTS_APPLICATION, STARTS_APPLICATION, STARTS_APPLICATION]</td><td class=\"tdhistory400970\">3267888</td></tr></tbody></table></div>"
      ]
     },
     "execution_count": 14,
     "metadata": {
      "application/vnd.teradata.resultset": "{\"resultSetID\":\"/home/jovyan/JupyterLabRoot/Teradata/Resultsets/2025.05.29_12.53.32.198_UTC\",\"historyID\":1851,\"chunkID\":\"00001\",\"sessionid\":\"\",\"portnum\":\"\",\"dockermode\":\"docker\",\"totalRowCount\":10,\"chunkCount\":0,\"rowLimit\":0,\"columnMetadata\":[{\"columnName\":\"start_time\",\"columnTypeName\":\"TIMESTAMP WITH TIME ZONE\",\"length\":6,\"scale\":6},{\"columnNumber\":1,\"columnName\":\"customer_identifier\",\"columnTypeName\":\"VARCHAR\",\"length\":26,\"scale\":26},{\"columnNumber\":2,\"columnName\":\"firstname\",\"columnTypeName\":\"VARCHAR\",\"length\":50,\"scale\":50},{\"columnNumber\":3,\"columnName\":\"lastname\",\"columnTypeName\":\"VARCHAR\",\"length\":90,\"scale\":90},{\"columnNumber\":4,\"columnName\":\"fraud_amount\",\"columnTypeName\":\"FLOAT\"},{\"columnNumber\":5,\"columnName\":\"path\",\"columnTypeName\":\"LONG VARCHAR\",\"length\":64000,\"scale\":64000},{\"columnNumber\":6,\"columnName\":\"interaction_session_number\",\"columnTypeName\":\"BIGINT\"}]}"
     },
     "output_type": "execute_result"
    }
   ],
   "source": [
    "--EXPLAIN\n",
    "SELECT * FROM NPATH \n",
    "    (ON ( \n",
    "        SELECT \n",
    "                bh.customer_identifier, \n",
    "                bh.interaction_session_number, \n",
    "                bh.interaction_timestamp, \n",
    "                bh.interaction_type, \n",
    "                txn.amount, \n",
    "                c.firstname, \n",
    "                c.lastname \n",
    " \n",
    " \n",
    "                FROM demo_schema.txn_history@fs_postgres txn, demo.Banking_History_S3 bh,  \n",
    "                    demo.Customers_BFS c, demo.Accounts_Mapping_BFS am \n",
    " \n",
    " \n",
    "                WHERE txn.isFraud = 1 AND \n",
    "                    txn.nameOrig= am.nameOrig AND \n",
    "                    am.customer_identifier = bh.customer_identifier AND \n",
    "                    am.customer_identifier = c.customer_identifier \n",
    "        ) \n",
    "         \n",
    "        PARTITION BY interaction_session_number \n",
    "        ORDER BY interaction_timestamp \n",
    "    USING \n",
    "        MODE (NONOVERLAPPING) \n",
    "        SYMBOLS (TRUE AS A) \n",
    "        PATTERN ('A*') \n",
    "        RESULT (FIRST (interaction_timestamp of A) as start_time,  \n",
    "                FIRST (customer_identifier of A) as customer_identifier, \n",
    "                FIRST (firstname of A) as firstname,  \n",
    "                FIRST (lastname of A) as lastname, \n",
    "                FIRST (amount of A) as fraud_amount, \n",
    "                ACCUMULATE (interaction_type of ANY(A)) as path, \n",
    "                FIRST (interaction_session_number of A) as interaction_session_number )); "
   ]
  },
  {
   "cell_type": "code",
   "execution_count": 15,
   "id": "f7780c4b-4572-4590-be23-d791fa3b879c",
   "metadata": {
    "tags": []
   },
   "outputs": [
    {
     "data": {
      "application/vnd.teradata.resultset": "\"Request Text\"\n\"CREATE DATALAKE TD_SERVER_DB.azure_unity_catalog \rEXTERNAL SECURITY INVOKER TRUSTED CATALOG UNITY_AUTH_AZURE ,\rEXTERNAL SECURITY INVOKER TRUSTED STORAGE UNITY_AUTH_AZURE \rUSING \rcatalog_type  ('unity')\rcatalog_location  ('https://adb-1752589464094231.11.azuredatabricks.net/api/2.1/unity-catalog/iceberg')\runity_catalog_name  ('demo_catalog')\rstorage_account_name  ('tddemosunity')\rtenant_id  ('7e59cd72-83de-4687-a065-f3d33a30cf85')\rdefault_cluster_id  ('1114-171147-5y7wxnc9')\rTABLE FORMAT iceberg ;\"",
      "text/html": [
       "<div class = \"td-resultset-table-div\" style = \"max-height: 100%; overflow-y: auto\">\n",
       "      <table class=\"tdhistory574829\"><style>\n",
       "      table.tdhistory574829 { display: block !important; min-height: 105px !important; overflow: auto !important; height: 105px !important; width: 100% !important; border: 1px solid rgb(207, 207, 207) !important; border-collapse: collapse !important; ; color: var(--jp-ui-font-color1) !important; }\n",
       "      th.tdhistory574829 { border: 1px solid rgb(198,198,198) !important; border-collapse: collapse !important; ; padding: 2px 5px !important; ; font-size: 13px !important; ; text-align: center !important; white-space: normal !important; color: var(--jp-ui-font-color1) !important; }\n",
       "      th.tdhistory574829:last-child { text-align: left !important; }\n",
       "      tbody.tdhistory574829 tr:nth-child(even) { background: rgba(243, 243, 243, 0.75) !important; }\n",
       "      tbody.tdhistory574829 tr:nth-child(odd) { background: var(--jp-ui-inverse-font-color1) !important; }\n",
       "      td.tdhistory574829 { border: 1px solid rgb(207, 207, 207) !important; border-collapse: collapse !important; ; padding: 2px 5px !important; ; font-size: 13px !important; ; text-align: left !important;          white-space: nowrap !important; overflow:hidden !important; text-overflow:ellipsis !important;; }\n",
       "    </style><thead><tr style= \"background: rgba(243, 243, 243, 0.75)\"><th class=\"tdhistory574829\"></th><th class=\"tdhistory574829\">Request Text</th></tr></thead><tbody class=\"tdhistory574829 resultset-body\"><tr><th class=\"tdhistory574829\" style= \"background: rgba(243, 243, 243, 0.75)\">1</th><td class=\"tdhistory574829\">CREATE DATALAKE TD_SERVER_DB.azure_unity_catalog \r",
       "EXTERNAL SECURITY INVOKER TRUSTED CATALOG UNITY_AUTH_AZURE ,\r",
       "EXTERNAL SECURITY INVOKER TRUSTED STORAGE UNITY_AUTH_AZURE \r",
       "USING \r",
       "catalog_type  ('unity')\r",
       "catalog_location  ('https://adb-1752589464094231.11.azuredatabricks.net/api/2.1/unity-catalog/iceberg')\r",
       "unity_catalog_name  ('demo_catalog')\r",
       "storage_account_name  ('tddemosunity')\r",
       "tenant_id  ('7e59cd72-83de-4687-a065-f3d33a30cf85')\r",
       "default_cluster_id  ('1114-171147-5y7wxnc9')\r",
       "TABLE FORMAT iceberg ;</td></tr></tbody></table></div>"
      ]
     },
     "execution_count": 15,
     "metadata": {
      "application/vnd.teradata.resultset": "{\"resultSetID\":\"/home/jovyan/JupyterLabRoot/Teradata/Resultsets/2025.05.29_12.53.54.211_UTC\",\"historyID\":1852,\"chunkID\":\"00001\",\"sessionid\":\"\",\"portnum\":\"\",\"dockermode\":\"docker\",\"totalRowCount\":1,\"chunkCount\":0,\"rowLimit\":0,\"columnMetadata\":[{\"columnName\":\"Request Text\",\"columnTypeName\":\"VARCHAR\",\"length\":501,\"scale\":501}]}"
     },
     "output_type": "execute_result"
    }
   ],
   "source": [
    "SHOW DATALAKE azure_unity_catalog;"
   ]
  },
  {
   "cell_type": "code",
   "execution_count": 16,
   "id": "2ec66880-872c-4f38-b7a3-fc66edec78ec",
   "metadata": {
    "tags": []
   },
   "outputs": [
    {
     "data": {
      "application/vnd.teradata.resultset": "\"DatabaseName\",\"DatabaseProperties\"\n\"default\",\"\"\n\"incoming_data\",\"\"\n\"information_schema\",\"\"\n\"retail_schema\",\"\"",
      "text/html": [
       "<div class = \"td-resultset-table-div\" style = \"max-height: 100%; overflow-y: auto\">\n",
       "      <table class=\"tdhistory183981\"><style>\n",
       "      table.tdhistory183981 { display: block !important; min-height: 168px !important; overflow: auto !important; height: 168px !important; width: 100% !important; border: 1px solid rgb(207, 207, 207) !important; border-collapse: collapse !important; ; color: var(--jp-ui-font-color1) !important; }\n",
       "      th.tdhistory183981 { border: 1px solid rgb(198,198,198) !important; border-collapse: collapse !important; ; padding: 2px 5px !important; ; font-size: 13px !important; ; text-align: center !important; white-space: normal !important; color: var(--jp-ui-font-color1) !important; }\n",
       "      th.tdhistory183981:last-child { text-align: left !important; }\n",
       "      tbody.tdhistory183981 tr:nth-child(even) { background: rgba(243, 243, 243, 0.75) !important; }\n",
       "      tbody.tdhistory183981 tr:nth-child(odd) { background: var(--jp-ui-inverse-font-color1) !important; }\n",
       "      td.tdhistory183981 { border: 1px solid rgb(207, 207, 207) !important; border-collapse: collapse !important; ; padding: 2px 5px !important; ; font-size: 13px !important; ; text-align: left !important;          white-space: nowrap !important; overflow:hidden !important; text-overflow:ellipsis !important;; }\n",
       "    </style><thead><tr style= \"background: rgba(243, 243, 243, 0.75)\"><th class=\"tdhistory183981\"></th><th class=\"tdhistory183981\">DatabaseName</th><th class=\"tdhistory183981\">DatabaseProperties</th></tr></thead><tbody class=\"tdhistory183981 resultset-body\"><tr><th class=\"tdhistory183981\" style= \"background: rgba(243, 243, 243, 0.75)\">1</th><td class=\"tdhistory183981\">default</td><td class=\"tdhistory183981\"></td></tr><tr><th class=\"tdhistory183981\" style= \"background: rgba(243, 243, 243, 0.75)\">2</th><td class=\"tdhistory183981\">incoming_data</td><td class=\"tdhistory183981\"></td></tr><tr><th class=\"tdhistory183981\" style= \"background: rgba(243, 243, 243, 0.75)\">3</th><td class=\"tdhistory183981\">information_schema</td><td class=\"tdhistory183981\"></td></tr><tr><th class=\"tdhistory183981\" style= \"background: rgba(243, 243, 243, 0.75)\">4</th><td class=\"tdhistory183981\">retail_schema</td><td class=\"tdhistory183981\"></td></tr></tbody></table></div>"
      ]
     },
     "execution_count": 16,
     "metadata": {
      "application/vnd.teradata.resultset": "{\"resultSetID\":\"/home/jovyan/JupyterLabRoot/Teradata/Resultsets/2025.05.29_12.53.56.647_UTC\",\"historyID\":1853,\"chunkID\":\"00001\",\"sessionid\":\"\",\"portnum\":\"\",\"dockermode\":\"docker\",\"totalRowCount\":4,\"chunkCount\":0,\"rowLimit\":0,\"columnMetadata\":[{\"columnName\":\"DatabaseName\",\"columnTypeName\":\"LONG VARCHAR\",\"length\":32000,\"scale\":32000},{\"columnNumber\":1,\"columnName\":\"DatabaseProperties\",\"columnTypeName\":\"LONG VARCHAR\",\"length\":32000,\"scale\":32000}]}"
     },
     "output_type": "execute_result"
    }
   ],
   "source": [
    "HELP DATALAKE azure_unity_catalog;"
   ]
  },
  {
   "cell_type": "code",
   "execution_count": 17,
   "id": "47177f7a-ba86-486f-85d5-ee76401d0983",
   "metadata": {
    "tags": []
   },
   "outputs": [
    {
     "data": {
      "application/vnd.teradata.resultset": "\"Table/View/Macro Name\",\"Kind\",\"Comment\",\"Protection\",\"Creator Name\",\"Commit Option\",\"Transaction Log\",\"Table/View/Macro Dictionary Name\",\"Table/View/Macro SQL Name\",\"Table/View/Macro Name UEscape\",\"Creator Dictionary Name\",\"Creator SQL Name\",\"Creator SQL UEscape\",\"Table Flavor\",\"TblProperties\",\"OTF Table Format\"\n\"customer_comments\",\"T\",\"\",\"\",\"\",\"\",\"\",\"customer_comments\",\"customer_comments\",\"\",\"\",\"\",\"\",\"I \",\"'schema.name-mapping.default'='[ {\n  \"\"field-id\"\" : 1,\n  \"\"names\"\" : [ \"\"comment_id\"\" ]\n}, {\n  \"\"field-id\"\" : 2,\n  \"\"names\"\" : [ \"\"customer_id\"\" ]\n}, {\n  \"\"field-id\"\" : 3,\n  \"\"names\"\" : [ \"\"comment_text\"\" ]\n}, {\n  \"\"field-id\"\" : 4,\n  \"\"names\"\" : [ \"\"comment_summary\"\" ]\n} ]','delta-timestamp'='1712329488000','delta-version'='1'\",\"iceberg\"\n\"customer_history\",\"T\",\"\",\"\",\"\",\"\",\"\",\"customer_history\",\"customer_history\",\"\",\"\",\"\",\"\",\"I \",\"'schema.name-mapping.default'='[ {\n  \"\"field-id\"\" : 1,\n  \"\"names\"\" : [ \"\"CUSTOMER_ID\"\" ]\n}, {\n  \"\"field-id\"\" : 2,\n  \"\"names\"\" : [ \"\"DATESTAMP\"\" ]\n}, {\n  \"\"field-id\"\" : 3,\n  \"\"names\"\" : [ \"\"EVENT\"\" ]\n} ]','delta-timestamp'='1712328886000','delta-version'='1'\",\"iceberg\"",
      "text/html": [
       "<div class = \"td-resultset-table-div\" style = \"max-height: 100%; overflow-y: auto\">\n",
       "      <table class=\"tdhistory927674\"><style>\n",
       "      table.tdhistory927674 { display: block !important; min-height: 126px !important; overflow: auto !important; height: 126px !important; width: 100% !important; border: 1px solid rgb(207, 207, 207) !important; border-collapse: collapse !important; ; color: var(--jp-ui-font-color1) !important; }\n",
       "      th.tdhistory927674 { border: 1px solid rgb(198,198,198) !important; border-collapse: collapse !important; ; padding: 2px 5px !important; ; font-size: 13px !important; ; text-align: center !important; white-space: normal !important; color: var(--jp-ui-font-color1) !important; }\n",
       "      th.tdhistory927674:last-child { text-align: left !important; }\n",
       "      tbody.tdhistory927674 tr:nth-child(even) { background: rgba(243, 243, 243, 0.75) !important; }\n",
       "      tbody.tdhistory927674 tr:nth-child(odd) { background: var(--jp-ui-inverse-font-color1) !important; }\n",
       "      td.tdhistory927674 { border: 1px solid rgb(207, 207, 207) !important; border-collapse: collapse !important; ; padding: 2px 5px !important; ; font-size: 13px !important; ; text-align: left !important;          white-space: nowrap !important; overflow:hidden !important; text-overflow:ellipsis !important;; }\n",
       "    </style><thead><tr style= \"background: rgba(243, 243, 243, 0.75)\"><th class=\"tdhistory927674\"></th><th class=\"tdhistory927674\">Table/View/Macro Name</th><th class=\"tdhistory927674\">Kind</th><th class=\"tdhistory927674\">Comment</th><th class=\"tdhistory927674\">Protection</th><th class=\"tdhistory927674\">Creator Name</th><th class=\"tdhistory927674\">Commit Option</th><th class=\"tdhistory927674\">Transaction Log</th><th class=\"tdhistory927674\">Table/View/Macro Dictionary Name</th><th class=\"tdhistory927674\">Table/View/Macro SQL Name</th><th class=\"tdhistory927674\">Table/View/Macro Name UEscape</th><th class=\"tdhistory927674\">Creator Dictionary Name</th><th class=\"tdhistory927674\">Creator SQL Name</th><th class=\"tdhistory927674\">Creator SQL UEscape</th><th class=\"tdhistory927674\">Table Flavor</th><th class=\"tdhistory927674\">TblProperties</th><th class=\"tdhistory927674\">OTF Table Format</th></tr></thead><tbody class=\"tdhistory927674 resultset-body\"><tr><th class=\"tdhistory927674\" style= \"background: rgba(243, 243, 243, 0.75)\">1</th><td class=\"tdhistory927674\">customer_comments</td><td class=\"tdhistory927674\">T</td><td class=\"tdhistory927674\"></td><td class=\"tdhistory927674\"></td><td class=\"tdhistory927674\"></td><td class=\"tdhistory927674\"></td><td class=\"tdhistory927674\"></td><td class=\"tdhistory927674\">customer_comments</td><td class=\"tdhistory927674\">customer_comments</td><td class=\"tdhistory927674\"></td><td class=\"tdhistory927674\"></td><td class=\"tdhistory927674\"></td><td class=\"tdhistory927674\"></td><td class=\"tdhistory927674\">I </td><td class=\"tdhistory927674\">'schema.name-mapping.default'='[ {\n",
       "  \"field-id\" : 1,\n",
       "  \"names\" : [ \"comment_id\" ]\n",
       "}, {\n",
       "  \"field-id\" : 2,\n",
       "  \"names\" : [ \"customer_id\" ]\n",
       "}, {\n",
       "  \"field-id\" : 3,\n",
       "  \"names\" : [ \"comment_text\" ]\n",
       "}, {\n",
       "  \"field-id\" : 4,\n",
       "  \"names\" : [ \"comment_summary\" ]\n",
       "} ]','delta-timestamp'='1712329488000','delta-version'='1'</td><td class=\"tdhistory927674\">iceberg</td></tr><tr><th class=\"tdhistory927674\" style= \"background: rgba(243, 243, 243, 0.75)\">2</th><td class=\"tdhistory927674\">customer_history</td><td class=\"tdhistory927674\">T</td><td class=\"tdhistory927674\"></td><td class=\"tdhistory927674\"></td><td class=\"tdhistory927674\"></td><td class=\"tdhistory927674\"></td><td class=\"tdhistory927674\"></td><td class=\"tdhistory927674\">customer_history</td><td class=\"tdhistory927674\">customer_history</td><td class=\"tdhistory927674\"></td><td class=\"tdhistory927674\"></td><td class=\"tdhistory927674\"></td><td class=\"tdhistory927674\"></td><td class=\"tdhistory927674\">I </td><td class=\"tdhistory927674\">'schema.name-mapping.default'='[ {\n",
       "  \"field-id\" : 1,\n",
       "  \"names\" : [ \"CUSTOMER_ID\" ]\n",
       "}, {\n",
       "  \"field-id\" : 2,\n",
       "  \"names\" : [ \"DATESTAMP\" ]\n",
       "}, {\n",
       "  \"field-id\" : 3,\n",
       "  \"names\" : [ \"EVENT\" ]\n",
       "} ]','delta-timestamp'='1712328886000','delta-version'='1'</td><td class=\"tdhistory927674\">iceberg</td></tr></tbody></table></div>"
      ]
     },
     "execution_count": 17,
     "metadata": {
      "application/vnd.teradata.resultset": "{\"resultSetID\":\"/home/jovyan/JupyterLabRoot/Teradata/Resultsets/2025.05.29_12.54.00.177_UTC\",\"historyID\":1854,\"chunkID\":\"00001\",\"sessionid\":\"\",\"portnum\":\"\",\"dockermode\":\"docker\",\"totalRowCount\":2,\"chunkCount\":0,\"rowLimit\":0,\"columnMetadata\":[{\"columnName\":\"Table/View/Macro Name\",\"columnTypeName\":\"VARCHAR\",\"length\":256,\"scale\":256},{\"columnNumber\":1,\"columnName\":\"Kind\",\"columnTypeName\":\"VARCHAR\",\"length\":5,\"scale\":5},{\"columnNumber\":2,\"columnName\":\"Comment\",\"columnTypeName\":\"VARCHAR\",\"length\":255,\"scale\":255},{\"columnNumber\":3,\"columnName\":\"Protection\",\"columnTypeName\":\"CHAR\",\"length\":1,\"scale\":1},{\"columnNumber\":4,\"columnName\":\"Creator Name\",\"columnTypeName\":\"VARCHAR\",\"length\":256,\"scale\":256},{\"columnNumber\":5,\"columnName\":\"Commit Option\",\"columnTypeName\":\"CHAR\",\"length\":1,\"scale\":1},{\"columnNumber\":6,\"columnName\":\"Transaction Log\",\"columnTypeName\":\"CHAR\",\"length\":1,\"scale\":1},{\"columnNumber\":7,\"columnName\":\"Table/View/Macro Dictionary Name\",\"columnTypeName\":\"VARCHAR\",\"length\":256,\"scale\":256},{\"columnNumber\":8,\"columnName\":\"Table/View/Macro SQL Name\",\"columnTypeName\":\"VARCHAR\",\"length\":1288,\"scale\":1288},{\"columnNumber\":9,\"columnName\":\"Table/View/Macro Name UEscape\",\"columnTypeName\":\"VARCHAR\",\"length\":2,\"scale\":2},{\"columnNumber\":10,\"columnName\":\"Creator Dictionary Name\",\"columnTypeName\":\"VARCHAR\",\"length\":256,\"scale\":256},{\"columnNumber\":11,\"columnName\":\"Creator SQL Name\",\"columnTypeName\":\"VARCHAR\",\"length\":1288,\"scale\":1288},{\"columnNumber\":12,\"columnName\":\"Creator SQL UEscape\",\"columnTypeName\":\"VARCHAR\",\"length\":2,\"scale\":2},{\"columnNumber\":13,\"columnName\":\"Table Flavor\",\"columnTypeName\":\"CHAR\",\"length\":1,\"scale\":1},{\"columnNumber\":14,\"columnName\":\"TblProperties\",\"columnTypeName\":\"LONG VARCHAR\",\"length\":32000,\"scale\":32000},{\"columnNumber\":15,\"columnName\":\"OTF Table Format\",\"columnTypeName\":\"VARCHAR\",\"length\":256,\"scale\":256}]}"
     },
     "output_type": "execute_result"
    }
   ],
   "source": [
    "HELP DATABASE azure_unity_catalog.retail_schema"
   ]
  },
  {
   "cell_type": "code",
   "execution_count": 18,
   "id": "f93322e1-69dd-4194-9515-a8fca08d50b2",
   "metadata": {
    "tags": []
   },
   "outputs": [
    {
     "data": {
      "application/vnd.teradata.resultset": "\"snapshotId\",\"snapshotTimestamp\",\"timestampMSecs\",\"manifestList\",\"summary\"\n\"8916373793733834725\",\"2024-04-05 15:04:51\",\"1712329491928\",\"abfss://metastore@tddemosunity.dfs.core.windows.net/tddemos_metastore/retail_schema/__unitystorage/schemas/e4df7eb7-0112-4f97-bb97-6f7cc5365a72/tables/cbaf6d0f-36fc-4f04-9c30-a5b9b17202ea/metadata/snap-8916373793733834725-1-f7d02a3c-22ac-48ab-a95c-85caa65aee06.avro\",\"{\"\"added-data-files\"\":\"\"1\"\",\"\"added-records\"\":\"\"23486\"\",\"\"added-files-size\"\":\"\"4335177\"\",\"\"changed-partition-count\"\":\"\"1\"\",\"\"total-records\"\":\"\"23486\"\",\"\"total-files-size\"\":\"\"4335177\"\",\"\"total-data-files\"\":\"\"1\"\",\"\"total-delete-files\"\":\"\"0\"\",\"\"total-position-deletes\"\":\"\"0\"\",\"\"total-equality-deletes\"\":\"\"0\"\"}\"",
      "text/html": [
       "<div class = \"td-resultset-table-div\" style = \"max-height: 100%; overflow-y: auto\">\n",
       "      <table class=\"tdhistory829172\"><style>\n",
       "      table.tdhistory829172 { display: block !important; min-height: 105px !important; overflow: auto !important; height: 105px !important; width: 100% !important; border: 1px solid rgb(207, 207, 207) !important; border-collapse: collapse !important; ; color: var(--jp-ui-font-color1) !important; }\n",
       "      th.tdhistory829172 { border: 1px solid rgb(198,198,198) !important; border-collapse: collapse !important; ; padding: 2px 5px !important; ; font-size: 13px !important; ; text-align: center !important; white-space: normal !important; color: var(--jp-ui-font-color1) !important; }\n",
       "      th.tdhistory829172:last-child { text-align: left !important; }\n",
       "      tbody.tdhistory829172 tr:nth-child(even) { background: rgba(243, 243, 243, 0.75) !important; }\n",
       "      tbody.tdhistory829172 tr:nth-child(odd) { background: var(--jp-ui-inverse-font-color1) !important; }\n",
       "      td.tdhistory829172 { border: 1px solid rgb(207, 207, 207) !important; border-collapse: collapse !important; ; padding: 2px 5px !important; ; font-size: 13px !important; ; text-align: left !important;          white-space: nowrap !important; overflow:hidden !important; text-overflow:ellipsis !important;; }\n",
       "    </style><thead><tr style= \"background: rgba(243, 243, 243, 0.75)\"><th class=\"tdhistory829172\"></th><th class=\"tdhistory829172\">snapshotId</th><th class=\"tdhistory829172\">snapshotTimestamp</th><th class=\"tdhistory829172\">timestampMSecs</th><th class=\"tdhistory829172\">manifestList</th><th class=\"tdhistory829172\">summary</th></tr></thead><tbody class=\"tdhistory829172 resultset-body\"><tr><th class=\"tdhistory829172\" style= \"background: rgba(243, 243, 243, 0.75)\">1</th><td class=\"tdhistory829172\">8916373793733834725</td><td class=\"tdhistory829172\">2024-04-05 15:04:51</td><td class=\"tdhistory829172\">1712329491928</td><td class=\"tdhistory829172\">abfss://metastore@tddemosunity.dfs.core.windows.net/tddemos_metastore/retail_schema/__unitystorage/schemas/e4df7eb7-0112-4f97-bb97-6f7cc5365a72/tables/cbaf6d0f-36fc-4f04-9c30-a5b9b17202ea/metadata/snap-8916373793733834725-1-f7d02a3c-22ac-48ab-a95c-85caa65aee06.avro</td><td class=\"tdhistory829172\">{\"added-data-files\":\"1\",\"added-records\":\"23486\",\"added-files-size\":\"4335177\",\"changed-partition-count\":\"1\",\"total-records\":\"23486\",\"total-files-size\":\"4335177\",\"total-data-files\":\"1\",\"total-delete-files\":\"0\",\"total-position-deletes\":\"0\",\"total-equality-deletes\":\"0\"}</td></tr></tbody></table></div>"
      ]
     },
     "execution_count": 18,
     "metadata": {
      "application/vnd.teradata.resultset": "{\"resultSetID\":\"/home/jovyan/JupyterLabRoot/Teradata/Resultsets/2025.05.29_12.54.09.776_UTC\",\"historyID\":1855,\"chunkID\":\"00001\",\"sessionid\":\"\",\"portnum\":\"\",\"dockermode\":\"docker\",\"totalRowCount\":1,\"chunkCount\":0,\"rowLimit\":0,\"columnMetadata\":[{\"columnName\":\"snapshotId\",\"columnTypeName\":\"BIGINT\"},{\"columnNumber\":1,\"columnName\":\"snapshotTimestamp\",\"columnTypeName\":\"TIMESTAMP\"},{\"columnNumber\":2,\"columnName\":\"timestampMSecs\",\"columnTypeName\":\"BIGINT\"},{\"columnNumber\":3,\"columnName\":\"manifestList\",\"columnTypeName\":\"VARCHAR\",\"length\":512,\"scale\":512},{\"columnNumber\":4,\"columnName\":\"summary\",\"columnTypeName\":\"VARCHAR\",\"length\":15000,\"scale\":15000}]}"
     },
     "output_type": "execute_result"
    }
   ],
   "source": [
    "SELECT * FROM TD_SNAPSHOTS(ON (azure_unity_catalog.retail_schema.customer_comments)) D;"
   ]
  },
  {
   "cell_type": "code",
   "execution_count": 19,
   "id": "2e655e7b-bc9c-412d-bd88-d1dca79010a4",
   "metadata": {
    "tags": []
   },
   "outputs": [
    {
     "data": {
      "application/vnd.teradata.resultset": "\"comment_id\",\"customer_id\",\"comment_text\",\"comment_summary\"\n\"11399\",\"2596\",\"\"\"Not what i was expecting, but pleasantly surprised.  was envisioning a more structured/tailored trouser, but these are closer to leggings, albeit very substantial ones with \"\"\"\"real pant\"\"\"\" touches like a zip/button front and (faux) pockets.  they're form fitting\",\" soft yet supportive\"\n\"9319\",\"2360\",\" \",\"\"\n\"2814\",\"2047\",\"Such a cute pattern, and i loved the fold-over design, but beware - there is not enough bottom coverage! i should've looked more closely at the photo - it's pretty accurate in showing the bathing suit bottoms have limited rear coverage. a couple more inches of fabric would've really helped. i'm used to fuller coverage bathing suit bottoms, and these just expose way more cheek than i felt comfortable with. i could maybe wear them around my husband, but definitely not my dad! i felt like if i bent\",\"Beware - not enough bottom coverage!\"\n\"61\",\"1894\",\"3 tags sewn in, 2 small (about 1'' long) and 1 huge (about 2'' x 3''). very itchy so i cut them out. then the thread left behind was plasticy and even more itchy! how can you make an intimates item with such itchy tags? not comfortable at all! also - i love bralettes and wear them all the time including to work. i am a b cup. however, this one is so thin and flimsy that it gives no support even to a b cup - so for me this would only be a lounging bralette - if it wasn't so itchy!\",\"Itchy tags\"\n\"1672\",\"2585\",\"Can't go wrong with these new charlie's by cartonnier. they fit amazingly. the fabric is a textured cotton but doesn't seem to wrinkle. just shook them out of the bag yesterday. the fabric description says cotton and spandex so they have some give (just a little) but are not going to stretch out after wearing for an hour. paired it with all sorts of different tops. side zip is slimming. lined pockets. substantial fabric. nothing bad to say. if you haven't tried a pair of charlies you should. you\",\"Another winner\"\n\"7565\",\"2475\",\"This is my new favorite sweater. soft and comfortable and easy to wear to both work and play. being able to wear different things under this makes it very versatile and easy to change looks.\",\"New favorite\"\n\"7239\",\"2432\",\"I have a hard time with sizes here. i literally can wear sm-large depending on the brand, so it's hard to buy online. i was worried this would be too short as i'm 5'9' so i got a large and it's a little too bulky. i will be heading to the store to exchange and hope they have a green one left :)\",\"Cute but too big need to exchange\"\n\"5628\",\"2466\",\"I love this sweater. it's warm, comfortable, and soft. nice quality too.\",\"Comfortable sweater\"\n\"13866\",\"2394\",\"I just received this and absolutely love it !!! i love cold shoulder designs and this one is unique and so well made. i am usually a size small and it fit perfectly. i would say it runs true to size and will look perfect with white or black pants and a cute sandal. i am so glad i got it. love the quality .\",\"Just adorable !! a must for every wardrobe\"\n\"19046\",\"2603\",\"Hack: wrap the sash around waist twice and tie in back!! agreed with other reviewers it is a bit sack like when the sash tied in front as seen on model. but wrap twice, and it makes the silhouette pop. fabric is rediculously lush, and pattern is very sophisticated. stunning dress, will be wearing all summer -- with flats for work, with heels for evening. oop, my usual size, fits perfectly (5'4, 110 lbs).\",\"Comfortable and classy\"",
      "text/html": [
       "<div class = \"td-resultset-table-div\" style = \"max-height: 100%; overflow-y: auto\">\n",
       "      <table class=\"tdhistory804472\"><style>\n",
       "      table.tdhistory804472 { display: block !important; min-height: 294px !important; overflow: auto !important; height: 294px !important; width: 100% !important; border: 1px solid rgb(207, 207, 207) !important; border-collapse: collapse !important; ; color: var(--jp-ui-font-color1) !important; }\n",
       "      th.tdhistory804472 { border: 1px solid rgb(198,198,198) !important; border-collapse: collapse !important; ; padding: 2px 5px !important; ; font-size: 13px !important; ; text-align: center !important; white-space: normal !important; color: var(--jp-ui-font-color1) !important; }\n",
       "      th.tdhistory804472:last-child { text-align: left !important; }\n",
       "      tbody.tdhistory804472 tr:nth-child(even) { background: rgba(243, 243, 243, 0.75) !important; }\n",
       "      tbody.tdhistory804472 tr:nth-child(odd) { background: var(--jp-ui-inverse-font-color1) !important; }\n",
       "      td.tdhistory804472 { border: 1px solid rgb(207, 207, 207) !important; border-collapse: collapse !important; ; padding: 2px 5px !important; ; font-size: 13px !important; ; text-align: left !important;          white-space: nowrap !important; overflow:hidden !important; text-overflow:ellipsis !important;; }\n",
       "    </style><thead><tr style= \"background: rgba(243, 243, 243, 0.75)\"><th class=\"tdhistory804472\"></th><th class=\"tdhistory804472\">comment_id</th><th class=\"tdhistory804472\">customer_id</th><th class=\"tdhistory804472\">comment_text</th><th class=\"tdhistory804472\">comment_summary</th></tr></thead><tbody class=\"tdhistory804472 resultset-body\"><tr><th class=\"tdhistory804472\" style= \"background: rgba(243, 243, 243, 0.75)\">1</th><td class=\"tdhistory804472\">11399</td><td class=\"tdhistory804472\">2596</td><td class=\"tdhistory804472\">\"Not what i was expecting, but pleasantly surprised.  was envisioning a more structured/tailored trouser, but these are closer to leggings, albeit very substantial ones with \"\"real pant\"\" touches like a zip/button front and (faux) pockets.  they're form fitting</td><td class=\"tdhistory804472\"> soft yet supportive</td></tr><tr><th class=\"tdhistory804472\" style= \"background: rgba(243, 243, 243, 0.75)\">2</th><td class=\"tdhistory804472\">9319</td><td class=\"tdhistory804472\">2360</td><td class=\"tdhistory804472\"> </td><td class=\"tdhistory804472\"></td></tr><tr><th class=\"tdhistory804472\" style= \"background: rgba(243, 243, 243, 0.75)\">3</th><td class=\"tdhistory804472\">2814</td><td class=\"tdhistory804472\">2047</td><td class=\"tdhistory804472\">Such a cute pattern, and i loved the fold-over design, but beware - there is not enough bottom coverage! i should've looked more closely at the photo - it's pretty accurate in showing the bathing suit bottoms have limited rear coverage. a couple more inches of fabric would've really helped. i'm used to fuller coverage bathing suit bottoms, and these just expose way more cheek than i felt comfortable with. i could maybe wear them around my husband, but definitely not my dad! i felt like if i bent</td><td class=\"tdhistory804472\">Beware - not enough bottom coverage!</td></tr><tr><th class=\"tdhistory804472\" style= \"background: rgba(243, 243, 243, 0.75)\">4</th><td class=\"tdhistory804472\">61</td><td class=\"tdhistory804472\">1894</td><td class=\"tdhistory804472\">3 tags sewn in, 2 small (about 1'' long) and 1 huge (about 2'' x 3''). very itchy so i cut them out. then the thread left behind was plasticy and even more itchy! how can you make an intimates item with such itchy tags? not comfortable at all! also - i love bralettes and wear them all the time including to work. i am a b cup. however, this one is so thin and flimsy that it gives no support even to a b cup - so for me this would only be a lounging bralette - if it wasn't so itchy!</td><td class=\"tdhistory804472\">Itchy tags</td></tr><tr><th class=\"tdhistory804472\" style= \"background: rgba(243, 243, 243, 0.75)\">5</th><td class=\"tdhistory804472\">1672</td><td class=\"tdhistory804472\">2585</td><td class=\"tdhistory804472\">Can't go wrong with these new charlie's by cartonnier. they fit amazingly. the fabric is a textured cotton but doesn't seem to wrinkle. just shook them out of the bag yesterday. the fabric description says cotton and spandex so they have some give (just a little) but are not going to stretch out after wearing for an hour. paired it with all sorts of different tops. side zip is slimming. lined pockets. substantial fabric. nothing bad to say. if you haven't tried a pair of charlies you should. you</td><td class=\"tdhistory804472\">Another winner</td></tr><tr><th class=\"tdhistory804472\" style= \"background: rgba(243, 243, 243, 0.75)\">6</th><td class=\"tdhistory804472\">7565</td><td class=\"tdhistory804472\">2475</td><td class=\"tdhistory804472\">This is my new favorite sweater. soft and comfortable and easy to wear to both work and play. being able to wear different things under this makes it very versatile and easy to change looks.</td><td class=\"tdhistory804472\">New favorite</td></tr><tr><th class=\"tdhistory804472\" style= \"background: rgba(243, 243, 243, 0.75)\">7</th><td class=\"tdhistory804472\">7239</td><td class=\"tdhistory804472\">2432</td><td class=\"tdhistory804472\">I have a hard time with sizes here. i literally can wear sm-large depending on the brand, so it's hard to buy online. i was worried this would be too short as i'm 5'9' so i got a large and it's a little too bulky. i will be heading to the store to exchange and hope they have a green one left :)</td><td class=\"tdhistory804472\">Cute but too big need to exchange</td></tr><tr><th class=\"tdhistory804472\" style= \"background: rgba(243, 243, 243, 0.75)\">8</th><td class=\"tdhistory804472\">5628</td><td class=\"tdhistory804472\">2466</td><td class=\"tdhistory804472\">I love this sweater. it's warm, comfortable, and soft. nice quality too.</td><td class=\"tdhistory804472\">Comfortable sweater</td></tr><tr><th class=\"tdhistory804472\" style= \"background: rgba(243, 243, 243, 0.75)\">9</th><td class=\"tdhistory804472\">13866</td><td class=\"tdhistory804472\">2394</td><td class=\"tdhistory804472\">I just received this and absolutely love it !!! i love cold shoulder designs and this one is unique and so well made. i am usually a size small and it fit perfectly. i would say it runs true to size and will look perfect with white or black pants and a cute sandal. i am so glad i got it. love the quality .</td><td class=\"tdhistory804472\">Just adorable !! a must for every wardrobe</td></tr><tr><th class=\"tdhistory804472\" style= \"background: rgba(243, 243, 243, 0.75)\">10</th><td class=\"tdhistory804472\">19046</td><td class=\"tdhistory804472\">2603</td><td class=\"tdhistory804472\">Hack: wrap the sash around waist twice and tie in back!! agreed with other reviewers it is a bit sack like when the sash tied in front as seen on model. but wrap twice, and it makes the silhouette pop. fabric is rediculously lush, and pattern is very sophisticated. stunning dress, will be wearing all summer -- with flats for work, with heels for evening. oop, my usual size, fits perfectly (5'4, 110 lbs).</td><td class=\"tdhistory804472\">Comfortable and classy</td></tr></tbody></table></div>"
      ]
     },
     "execution_count": 19,
     "metadata": {
      "application/vnd.teradata.resultset": "{\"resultSetID\":\"/home/jovyan/JupyterLabRoot/Teradata/Resultsets/2025.05.29_12.54.16.464_UTC\",\"historyID\":1856,\"chunkID\":\"00001\",\"sessionid\":\"\",\"portnum\":\"\",\"dockermode\":\"docker\",\"totalRowCount\":10,\"chunkCount\":0,\"rowLimit\":0,\"columnMetadata\":[{\"columnName\":\"comment_id\",\"columnTypeName\":\"INTEGER\"},{\"columnNumber\":1,\"columnName\":\"customer_id\",\"columnTypeName\":\"INTEGER\"},{\"columnNumber\":2,\"columnName\":\"comment_text\",\"columnTypeName\":\"VARCHAR\",\"length\":2000,\"scale\":2000},{\"columnNumber\":3,\"columnName\":\"comment_summary\",\"columnTypeName\":\"VARCHAR\",\"length\":2000,\"scale\":2000}]}"
     },
     "output_type": "execute_result"
    }
   ],
   "source": [
    "SELECT TOP 10 * FROM azure_unity_catalog.retail_schema.customer_comments;"
   ]
  },
  {
   "cell_type": "code",
   "execution_count": null,
   "id": "c9301855-eee0-4803-8e12-1153ce0ad34c",
   "metadata": {},
   "outputs": [],
   "source": [
    "%disconnect VC_Lake"
   ]
  },
  {
   "cell_type": "code",
   "execution_count": null,
   "id": "14605d2f-ab71-48d1-80f0-9dba847a5374",
   "metadata": {},
   "outputs": [],
   "source": [
    "%disconnect VC_Local"
   ]
  },
  {
   "cell_type": "markdown",
   "id": "developmental-monroe",
   "metadata": {},
   "source": [
    "<footer style=\"padding:10px;background:#f9f9f9;border-bottom:3px solid #394851\">©2025 Teradata. All Rights Reserved</footer>"
   ]
  },
  {
   "cell_type": "code",
   "execution_count": null,
   "id": "terminal-creativity",
   "metadata": {},
   "outputs": [],
   "source": []
  }
 ],
 "metadata": {
  "kernelspec": {
   "display_name": "Teradata SQL",
   "language": "Teradata SQL",
   "name": "teradatasql"
  },
  "language_info": {
   "codemirror_mode": "Teradata SQL",
   "file_extension": ".tdrs",
   "mimetype": "application/vnd.teradata.resultset",
   "name": "Teradata SQL",
   "nbconvert_exporter": "",
   "pygments_lexer": "",
   "version": "16.20"
  }
 },
 "nbformat": 4,
 "nbformat_minor": 5
}
